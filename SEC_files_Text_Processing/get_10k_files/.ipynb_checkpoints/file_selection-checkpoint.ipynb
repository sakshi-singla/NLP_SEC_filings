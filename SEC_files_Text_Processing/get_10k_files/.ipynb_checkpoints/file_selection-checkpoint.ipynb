{
 "cells": [
  {
   "cell_type": "code",
   "execution_count": 17,
   "metadata": {},
   "outputs": [],
   "source": [
    "import sqlite3"
   ]
  },
  {
   "cell_type": "code",
   "execution_count": 18,
   "metadata": {},
   "outputs": [],
   "source": [
    "con = sqlite3.connect(\"/usr/local/ifs/gsb/EDGAR_HTTPS/edgar.db\")"
   ]
  },
  {
   "cell_type": "code",
   "execution_count": 19,
   "metadata": {},
   "outputs": [],
   "source": [
    "cur = con.cursor()"
   ]
  },
  {
   "cell_type": "code",
   "execution_count": 28,
   "metadata": {},
   "outputs": [
    {
     "name": "stdout",
     "output_type": "stream",
     "text": [
      "fetchall:\n",
      "('edgar/data/310235/0001019687-01-000001.txt',)\n",
      "('edgar/data/930803/0001021771-01-000004.txt',)\n",
      "('edgar/data/1082384/0001019687-01-000007.txt',)\n",
      "('edgar/data/882287/0001092388-01-500006.txt',)\n",
      "('edgar/data/774491/0000774491-01-500003.txt',)\n",
      "('edgar/data/833088/0001053949-01-000004.txt',)\n",
      "('edgar/data/276889/0000950129-01-000052.txt',)\n",
      "('edgar/data/42429/0000950144-01-000220.txt',)\n",
      "('edgar/data/709355/0000950116-01-000027.txt',)\n",
      "('edgar/data/774491/0000774491-01-500010.txt',)\n"
     ]
    }
   ],
   "source": [
    "cur.execute(\"select filename from edgar where date > '2001-01-01' and form = '10-K'  limit 10\")\n",
    "print(\"fetchall:\")\n",
    "result = cur.fetchall()\n",
    "for r in result:\n",
    "    print(r)"
   ]
  },
  {
   "cell_type": "code",
   "execution_count": null,
   "metadata": {},
   "outputs": [],
   "source": [
    "cur.execute(\"select filename from edgar where date < '1999-12-31' and form = '10-K'  limit 10\")\n",
    "print(\"fetchall:\")\n",
    "result = cur.fetchall()\n",
    "for r in result:\n",
    "    print(r)"
   ]
  },
  {
   "cell_type": "code",
   "execution_count": 2,
   "metadata": {
    "scrolled": true
   },
   "outputs": [
    {
     "data": {
      "text/plain": [
       "'1059286'"
      ]
     },
     "execution_count": 2,
     "metadata": {},
     "output_type": "execute_result"
    }
   ],
   "source": [
    "import os, random\n",
    "random.choice(os.listdir(\"/ifs/gsb/EDGAR_HTTPS/edgar/data\"))"
   ]
  },
  {
   "cell_type": "code",
   "execution_count": 3,
   "metadata": {},
   "outputs": [],
   "source": [
    "from os import listdir\n",
    "from os.path import isfile, join\n",
    "onlyfiles = [f for f in listdir(\"/ifs/gsb/EDGAR_HTTPS/edgar/data\") if isfile(join(\"/ifs/gsb/EDGAR_HTTPS/edgar/data\", f))]"
   ]
  },
  {
   "cell_type": "code",
   "execution_count": 6,
   "metadata": {},
   "outputs": [
    {
     "data": {
      "text/plain": [
       "38"
      ]
     },
     "execution_count": 6,
     "metadata": {},
     "output_type": "execute_result"
    }
   ],
   "source": [
    "len(onlyfiles)"
   ]
  },
  {
   "cell_type": "code",
   "execution_count": 7,
   "metadata": {},
   "outputs": [
    {
     "data": {
      "text/plain": [
       "['0001047469-09-007896.txt',\n",
       " 'f+++++++++',\n",
       " '0000950129-04-001638.txt',\n",
       " '0000891014-97-000004.txt',\n",
       " '0001104659-09-008902.txt',\n",
       " '0000950123-10-012911.txt',\n",
       " '0000100378-11-000038.txt',\n",
       " '0001047469-10-007726.txt',\n",
       " '0000100378-01-500018.txt',\n",
       " '0000950153-02-000573.txt',\n",
       " '0001140361-11-030346.txt',\n",
       " '0000950123-11-016366.txt',\n",
       " '0001104659-10-010688.txt',\n",
       " '0001047469-05-028479.txt',\n",
       " '0001289419-13-000059.txt',\n",
       " '0000891014-03-000013.txt',\n",
       " '0000950129-05-002894.txt',\n",
       " '0000950152-05-007561.txt',\n",
       " '0000950124-02-002157.txt',\n",
       " '0000891014-06-000048.txt',\n",
       " '0000092769-99-000004.txt',\n",
       " '0001047469-03-010998.txt',\n",
       " 'Downloading',\n",
       " '0000042888-07-000068.txt',\n",
       " '0000891014-10-000009.txt',\n",
       " '0000891014-11-000007.txt',\n",
       " '0000100378-99-000007.txt',\n",
       " '0000100378-09-000028.txt',\n",
       " '0000891014-05-000081.txt',\n",
       " '0001047469-13-008711.txt',\n",
       " '0000950136-00-000462.txt',\n",
       " '0001140361-09-006772.txt',\n",
       " '0001104659-08-012379.txt',\n",
       " '0000912057-02-010165.txt',\n",
       " '0000950123-10-076593.txt',\n",
       " '0000950123-10-053720.txt',\n",
       " '0001193125-12-069746.txt',\n",
       " '0000950153-06-000651.txt']"
      ]
     },
     "execution_count": 7,
     "metadata": {},
     "output_type": "execute_result"
    }
   ],
   "source": [
    "onlyfiles"
   ]
  },
  {
   "cell_type": "code",
   "execution_count": 9,
   "metadata": {},
   "outputs": [],
   "source": [
    "filename = listdir(\"/ifs/gsb/EDGAR_HTTPS/edgar/data\")"
   ]
  },
  {
   "cell_type": "code",
   "execution_count": null,
   "metadata": {},
   "outputs": [],
   "source": [
    "filename"
   ]
  },
  {
   "cell_type": "code",
   "execution_count": 11,
   "metadata": {},
   "outputs": [
    {
     "data": {
      "text/plain": [
       "674995"
      ]
     },
     "execution_count": 11,
     "metadata": {},
     "output_type": "execute_result"
    }
   ],
   "source": [
    "len(filename)"
   ]
  },
  {
   "cell_type": "code",
   "execution_count": null,
   "metadata": {},
   "outputs": [],
   "source": []
  }
 ],
 "metadata": {
  "kernelspec": {
   "display_name": "Python 3",
   "language": "python",
   "name": "python3"
  },
  "language_info": {
   "codemirror_mode": {
    "name": "ipython",
    "version": 3
   },
   "file_extension": ".py",
   "mimetype": "text/x-python",
   "name": "python",
   "nbconvert_exporter": "python",
   "pygments_lexer": "ipython3",
   "version": "3.6.9"
  }
 },
 "nbformat": 4,
 "nbformat_minor": 2
}
