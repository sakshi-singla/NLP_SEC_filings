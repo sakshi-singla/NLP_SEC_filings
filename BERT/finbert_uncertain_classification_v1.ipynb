{
  "nbformat": 4,
  "nbformat_minor": 0,
  "metadata": {
    "colab": {
      "name": "finbert_uncertain_classification.ipynb",
      "provenance": [],
      "collapsed_sections": [],
      "toc_visible": true
    },
    "kernelspec": {
      "name": "python3",
      "display_name": "Python 3"
    }
  },
  "cells": [
    {
      "cell_type": "code",
      "metadata": {
        "id": "KRnNV1pbimz5",
        "colab_type": "code",
        "colab": {
          "base_uri": "https://localhost:8080/",
          "height": 853
        },
        "outputId": "75daf69e-f3a3-4ff0-b389-28d0cf838903"
      },
      "source": [
        "! pip install finbert-embedding==0.1.4"
      ],
      "execution_count": 2,
      "outputs": [
        {
          "output_type": "stream",
          "text": [
            "Requirement already satisfied: finbert-embedding==0.1.4 in /usr/local/lib/python3.6/dist-packages (0.1.4)\n",
            "Requirement already satisfied: tensorflow in /usr/local/lib/python3.6/dist-packages (from finbert-embedding==0.1.4) (2.2.0)\n",
            "Requirement already satisfied: torch==1.1.0 in /usr/local/lib/python3.6/dist-packages (from finbert-embedding==0.1.4) (1.1.0)\n",
            "Requirement already satisfied: pytorch-pretrained-bert==0.6.2 in /usr/local/lib/python3.6/dist-packages (from finbert-embedding==0.1.4) (0.6.2)\n",
            "Requirement already satisfied: tensorboard<2.3.0,>=2.2.0 in /usr/local/lib/python3.6/dist-packages (from tensorflow->finbert-embedding==0.1.4) (2.2.2)\n",
            "Requirement already satisfied: termcolor>=1.1.0 in /usr/local/lib/python3.6/dist-packages (from tensorflow->finbert-embedding==0.1.4) (1.1.0)\n",
            "Requirement already satisfied: opt-einsum>=2.3.2 in /usr/local/lib/python3.6/dist-packages (from tensorflow->finbert-embedding==0.1.4) (3.2.1)\n",
            "Requirement already satisfied: google-pasta>=0.1.8 in /usr/local/lib/python3.6/dist-packages (from tensorflow->finbert-embedding==0.1.4) (0.2.0)\n",
            "Requirement already satisfied: tensorflow-estimator<2.3.0,>=2.2.0 in /usr/local/lib/python3.6/dist-packages (from tensorflow->finbert-embedding==0.1.4) (2.2.0)\n",
            "Requirement already satisfied: wrapt>=1.11.1 in /usr/local/lib/python3.6/dist-packages (from tensorflow->finbert-embedding==0.1.4) (1.12.1)\n",
            "Requirement already satisfied: absl-py>=0.7.0 in /usr/local/lib/python3.6/dist-packages (from tensorflow->finbert-embedding==0.1.4) (0.9.0)\n",
            "Requirement already satisfied: h5py<2.11.0,>=2.10.0 in /usr/local/lib/python3.6/dist-packages (from tensorflow->finbert-embedding==0.1.4) (2.10.0)\n",
            "Requirement already satisfied: keras-preprocessing>=1.1.0 in /usr/local/lib/python3.6/dist-packages (from tensorflow->finbert-embedding==0.1.4) (1.1.2)\n",
            "Requirement already satisfied: wheel>=0.26; python_version >= \"3\" in /usr/local/lib/python3.6/dist-packages (from tensorflow->finbert-embedding==0.1.4) (0.34.2)\n",
            "Requirement already satisfied: astunparse==1.6.3 in /usr/local/lib/python3.6/dist-packages (from tensorflow->finbert-embedding==0.1.4) (1.6.3)\n",
            "Requirement already satisfied: protobuf>=3.8.0 in /usr/local/lib/python3.6/dist-packages (from tensorflow->finbert-embedding==0.1.4) (3.10.0)\n",
            "Requirement already satisfied: six>=1.12.0 in /usr/local/lib/python3.6/dist-packages (from tensorflow->finbert-embedding==0.1.4) (1.12.0)\n",
            "Requirement already satisfied: grpcio>=1.8.6 in /usr/local/lib/python3.6/dist-packages (from tensorflow->finbert-embedding==0.1.4) (1.29.0)\n",
            "Requirement already satisfied: numpy<2.0,>=1.16.0 in /usr/local/lib/python3.6/dist-packages (from tensorflow->finbert-embedding==0.1.4) (1.18.5)\n",
            "Requirement already satisfied: scipy==1.4.1; python_version >= \"3\" in /usr/local/lib/python3.6/dist-packages (from tensorflow->finbert-embedding==0.1.4) (1.4.1)\n",
            "Requirement already satisfied: gast==0.3.3 in /usr/local/lib/python3.6/dist-packages (from tensorflow->finbert-embedding==0.1.4) (0.3.3)\n",
            "Requirement already satisfied: regex in /usr/local/lib/python3.6/dist-packages (from pytorch-pretrained-bert==0.6.2->finbert-embedding==0.1.4) (2019.12.20)\n",
            "Requirement already satisfied: boto3 in /usr/local/lib/python3.6/dist-packages (from pytorch-pretrained-bert==0.6.2->finbert-embedding==0.1.4) (1.14.5)\n",
            "Requirement already satisfied: tqdm in /usr/local/lib/python3.6/dist-packages (from pytorch-pretrained-bert==0.6.2->finbert-embedding==0.1.4) (4.41.1)\n",
            "Requirement already satisfied: requests in /usr/local/lib/python3.6/dist-packages (from pytorch-pretrained-bert==0.6.2->finbert-embedding==0.1.4) (2.23.0)\n",
            "Requirement already satisfied: setuptools>=41.0.0 in /usr/local/lib/python3.6/dist-packages (from tensorboard<2.3.0,>=2.2.0->tensorflow->finbert-embedding==0.1.4) (47.3.1)\n",
            "Requirement already satisfied: google-auth-oauthlib<0.5,>=0.4.1 in /usr/local/lib/python3.6/dist-packages (from tensorboard<2.3.0,>=2.2.0->tensorflow->finbert-embedding==0.1.4) (0.4.1)\n",
            "Requirement already satisfied: google-auth<2,>=1.6.3 in /usr/local/lib/python3.6/dist-packages (from tensorboard<2.3.0,>=2.2.0->tensorflow->finbert-embedding==0.1.4) (1.17.2)\n",
            "Requirement already satisfied: werkzeug>=0.11.15 in /usr/local/lib/python3.6/dist-packages (from tensorboard<2.3.0,>=2.2.0->tensorflow->finbert-embedding==0.1.4) (1.0.1)\n",
            "Requirement already satisfied: tensorboard-plugin-wit>=1.6.0 in /usr/local/lib/python3.6/dist-packages (from tensorboard<2.3.0,>=2.2.0->tensorflow->finbert-embedding==0.1.4) (1.6.0.post3)\n",
            "Requirement already satisfied: markdown>=2.6.8 in /usr/local/lib/python3.6/dist-packages (from tensorboard<2.3.0,>=2.2.0->tensorflow->finbert-embedding==0.1.4) (3.2.2)\n",
            "Requirement already satisfied: botocore<1.18.0,>=1.17.5 in /usr/local/lib/python3.6/dist-packages (from boto3->pytorch-pretrained-bert==0.6.2->finbert-embedding==0.1.4) (1.17.5)\n",
            "Requirement already satisfied: s3transfer<0.4.0,>=0.3.0 in /usr/local/lib/python3.6/dist-packages (from boto3->pytorch-pretrained-bert==0.6.2->finbert-embedding==0.1.4) (0.3.3)\n",
            "Requirement already satisfied: jmespath<1.0.0,>=0.7.1 in /usr/local/lib/python3.6/dist-packages (from boto3->pytorch-pretrained-bert==0.6.2->finbert-embedding==0.1.4) (0.10.0)\n",
            "Requirement already satisfied: urllib3!=1.25.0,!=1.25.1,<1.26,>=1.21.1 in /usr/local/lib/python3.6/dist-packages (from requests->pytorch-pretrained-bert==0.6.2->finbert-embedding==0.1.4) (1.24.3)\n",
            "Requirement already satisfied: chardet<4,>=3.0.2 in /usr/local/lib/python3.6/dist-packages (from requests->pytorch-pretrained-bert==0.6.2->finbert-embedding==0.1.4) (3.0.4)\n",
            "Requirement already satisfied: idna<3,>=2.5 in /usr/local/lib/python3.6/dist-packages (from requests->pytorch-pretrained-bert==0.6.2->finbert-embedding==0.1.4) (2.9)\n",
            "Requirement already satisfied: certifi>=2017.4.17 in /usr/local/lib/python3.6/dist-packages (from requests->pytorch-pretrained-bert==0.6.2->finbert-embedding==0.1.4) (2020.4.5.2)\n",
            "Requirement already satisfied: requests-oauthlib>=0.7.0 in /usr/local/lib/python3.6/dist-packages (from google-auth-oauthlib<0.5,>=0.4.1->tensorboard<2.3.0,>=2.2.0->tensorflow->finbert-embedding==0.1.4) (1.3.0)\n",
            "Requirement already satisfied: pyasn1-modules>=0.2.1 in /usr/local/lib/python3.6/dist-packages (from google-auth<2,>=1.6.3->tensorboard<2.3.0,>=2.2.0->tensorflow->finbert-embedding==0.1.4) (0.2.8)\n",
            "Requirement already satisfied: cachetools<5.0,>=2.0.0 in /usr/local/lib/python3.6/dist-packages (from google-auth<2,>=1.6.3->tensorboard<2.3.0,>=2.2.0->tensorflow->finbert-embedding==0.1.4) (4.1.0)\n",
            "Requirement already satisfied: rsa<5,>=3.1.4; python_version >= \"3\" in /usr/local/lib/python3.6/dist-packages (from google-auth<2,>=1.6.3->tensorboard<2.3.0,>=2.2.0->tensorflow->finbert-embedding==0.1.4) (4.6)\n",
            "Requirement already satisfied: importlib-metadata; python_version < \"3.8\" in /usr/local/lib/python3.6/dist-packages (from markdown>=2.6.8->tensorboard<2.3.0,>=2.2.0->tensorflow->finbert-embedding==0.1.4) (1.6.1)\n",
            "Requirement already satisfied: docutils<0.16,>=0.10 in /usr/local/lib/python3.6/dist-packages (from botocore<1.18.0,>=1.17.5->boto3->pytorch-pretrained-bert==0.6.2->finbert-embedding==0.1.4) (0.15.2)\n",
            "Requirement already satisfied: python-dateutil<3.0.0,>=2.1 in /usr/local/lib/python3.6/dist-packages (from botocore<1.18.0,>=1.17.5->boto3->pytorch-pretrained-bert==0.6.2->finbert-embedding==0.1.4) (2.8.1)\n",
            "Requirement already satisfied: oauthlib>=3.0.0 in /usr/local/lib/python3.6/dist-packages (from requests-oauthlib>=0.7.0->google-auth-oauthlib<0.5,>=0.4.1->tensorboard<2.3.0,>=2.2.0->tensorflow->finbert-embedding==0.1.4) (3.1.0)\n",
            "Requirement already satisfied: pyasn1<0.5.0,>=0.4.6 in /usr/local/lib/python3.6/dist-packages (from pyasn1-modules>=0.2.1->google-auth<2,>=1.6.3->tensorboard<2.3.0,>=2.2.0->tensorflow->finbert-embedding==0.1.4) (0.4.8)\n",
            "Requirement already satisfied: zipp>=0.5 in /usr/local/lib/python3.6/dist-packages (from importlib-metadata; python_version < \"3.8\"->markdown>=2.6.8->tensorboard<2.3.0,>=2.2.0->tensorflow->finbert-embedding==0.1.4) (3.1.0)\n"
          ],
          "name": "stdout"
        }
      ]
    },
    {
      "cell_type": "code",
      "metadata": {
        "id": "jC4Gl6TvmZ4e",
        "colab_type": "code",
        "colab": {}
      },
      "source": [
        "import pandas as pd\n",
        "import numpy as np\n",
        "import random\n",
        "from pathlib import Path\n",
        "\n",
        "import torch\n",
        "import torch.nn as nn\n",
        "import torch.nn.functional as F\n",
        "from torch.utils.data import Dataset, DataLoader\n",
        "from torch.nn.utils.rnn import pack_padded_sequence, pad_packed_sequence"
      ],
      "execution_count": 3,
      "outputs": []
    },
    {
      "cell_type": "code",
      "metadata": {
        "id": "kOvEJcn7yHyv",
        "colab_type": "code",
        "colab": {}
      },
      "source": [
        "from sklearn.model_selection import StratifiedShuffleSplit"
      ],
      "execution_count": 4,
      "outputs": []
    },
    {
      "cell_type": "markdown",
      "metadata": {
        "id": "t9RXB7u4mEiw",
        "colab_type": "text"
      },
      "source": [
        "# Play around with Finbert library\n",
        "https://pypi.org/project/finbert-embedding/"
      ]
    },
    {
      "cell_type": "code",
      "metadata": {
        "id": "5_0FFpC586wR",
        "colab_type": "code",
        "colab": {}
      },
      "source": [
        "PATH = Path(\"/content/\")"
      ],
      "execution_count": 5,
      "outputs": []
    },
    {
      "cell_type": "code",
      "metadata": {
        "id": "Jop5cLwtipNc",
        "colab_type": "code",
        "colab": {}
      },
      "source": [
        "from finbert_embedding.embedding import FinbertEmbedding"
      ],
      "execution_count": 6,
      "outputs": []
    },
    {
      "cell_type": "code",
      "metadata": {
        "id": "RfCTSZzkj9kl",
        "colab_type": "code",
        "colab": {}
      },
      "source": [
        "finbert = FinbertEmbedding()"
      ],
      "execution_count": 7,
      "outputs": []
    },
    {
      "cell_type": "code",
      "metadata": {
        "id": "ICx55e47ktot",
        "colab_type": "code",
        "colab": {}
      },
      "source": [
        "df = pd.read_csv(\"classification.csv\",header=None, names=['sentence', 'label'])"
      ],
      "execution_count": 8,
      "outputs": []
    },
    {
      "cell_type": "code",
      "metadata": {
        "id": "8opBzxzKmYQU",
        "colab_type": "code",
        "colab": {
          "base_uri": "https://localhost:8080/",
          "height": 204
        },
        "outputId": "f3359c24-ce6c-4ec7-9761-25e174e92f23"
      },
      "source": [
        "df.head()"
      ],
      "execution_count": 9,
      "outputs": [
        {
          "output_type": "execute_result",
          "data": {
            "text/html": [
              "<div>\n",
              "<style scoped>\n",
              "    .dataframe tbody tr th:only-of-type {\n",
              "        vertical-align: middle;\n",
              "    }\n",
              "\n",
              "    .dataframe tbody tr th {\n",
              "        vertical-align: top;\n",
              "    }\n",
              "\n",
              "    .dataframe thead th {\n",
              "        text-align: right;\n",
              "    }\n",
              "</style>\n",
              "<table border=\"1\" class=\"dataframe\">\n",
              "  <thead>\n",
              "    <tr style=\"text-align: right;\">\n",
              "      <th></th>\n",
              "      <th>sentence</th>\n",
              "      <th>label</th>\n",
              "    </tr>\n",
              "  </thead>\n",
              "  <tbody>\n",
              "    <tr>\n",
              "      <th>0</th>\n",
              "      <td>For example, we may record as regulatory asset...</td>\n",
              "      <td>c</td>\n",
              "    </tr>\n",
              "    <tr>\n",
              "      <th>1</th>\n",
              "      <td>In connection with this transaction, all of ou...</td>\n",
              "      <td>c</td>\n",
              "    </tr>\n",
              "    <tr>\n",
              "      <th>2</th>\n",
              "      <td>The warrants were valued using the Black-Schol...</td>\n",
              "      <td>c</td>\n",
              "    </tr>\n",
              "    <tr>\n",
              "      <th>3</th>\n",
              "      <td>In July of 2006, we entered into an operating ...</td>\n",
              "      <td>c</td>\n",
              "    </tr>\n",
              "    <tr>\n",
              "      <th>4</th>\n",
              "      <td>Certain regulatory assets do not result from c...</td>\n",
              "      <td>c</td>\n",
              "    </tr>\n",
              "  </tbody>\n",
              "</table>\n",
              "</div>"
            ],
            "text/plain": [
              "                                            sentence label\n",
              "0  For example, we may record as regulatory asset...     c\n",
              "1  In connection with this transaction, all of ou...     c\n",
              "2  The warrants were valued using the Black-Schol...     c\n",
              "3  In July of 2006, we entered into an operating ...     c\n",
              "4  Certain regulatory assets do not result from c...     c"
            ]
          },
          "metadata": {
            "tags": []
          },
          "execution_count": 9
        }
      ]
    },
    {
      "cell_type": "code",
      "metadata": {
        "id": "EMwlAkQzmekS",
        "colab_type": "code",
        "colab": {}
      },
      "source": [
        "d = {v: i for i,v in enumerate(df.label.unique())}"
      ],
      "execution_count": 10,
      "outputs": []
    },
    {
      "cell_type": "code",
      "metadata": {
        "id": "QJ1e-kEVnA_G",
        "colab_type": "code",
        "colab": {
          "base_uri": "https://localhost:8080/",
          "height": 34
        },
        "outputId": "ba024893-e96f-4c96-be37-bbfde5a91545"
      },
      "source": [
        "d"
      ],
      "execution_count": 11,
      "outputs": [
        {
          "output_type": "execute_result",
          "data": {
            "text/plain": [
              "{'c': 0, 'u': 1}"
            ]
          },
          "metadata": {
            "tags": []
          },
          "execution_count": 11
        }
      ]
    },
    {
      "cell_type": "code",
      "metadata": {
        "id": "nhvNLMC5nfSq",
        "colab_type": "code",
        "colab": {}
      },
      "source": [
        "sentences = df.sentence.values\n",
        "labels = df.label.values\n",
        "labels_idx = [d[label] for label in labels]"
      ],
      "execution_count": 12,
      "outputs": []
    },
    {
      "cell_type": "code",
      "metadata": {
        "id": "h5WgL0v-nnoH",
        "colab_type": "code",
        "colab": {}
      },
      "source": [
        "word_embeddings_list = []\n",
        "sentence_embeddings_list = []\n",
        "for sentence in sentences:\n",
        "    word_embeddings = finbert.word_vector(text = sentence)\n",
        "    word_embeddings = np.vstack([emb.numpy() for emb in word_embeddings])\n",
        "    word_embeddings_list.append(word_embeddings)\n",
        "    sentence_embedding = finbert.sentence_vector(text = sentence)\n",
        "    sentence_embedding = sentence_embedding.numpy()\n",
        "    sentence_embeddings_list.append(sentence_embedding)"
      ],
      "execution_count": 13,
      "outputs": []
    },
    {
      "cell_type": "code",
      "metadata": {
        "id": "V1_byntBdu7C",
        "colab_type": "code",
        "colab": {
          "base_uri": "https://localhost:8080/",
          "height": 255
        },
        "outputId": "12162045-ec50-42a0-84c0-f64b70a7476a"
      },
      "source": [
        "df[df.label == 'c'].count"
      ],
      "execution_count": 15,
      "outputs": [
        {
          "output_type": "execute_result",
          "data": {
            "text/plain": [
              "<bound method DataFrame.count of                                               sentence label\n",
              "0    For example, we may record as regulatory asset...     c\n",
              "1    In connection with this transaction, all of ou...     c\n",
              "2    The warrants were valued using the Black-Schol...     c\n",
              "3    In July of 2006, we entered into an operating ...     c\n",
              "4    Certain regulatory assets do not result from c...     c\n",
              "..                                                 ...   ...\n",
              "995  The 2000 volumes reflect the impact of additio...     c\n",
              "996  The exercise price per share for each such opt...     c\n",
              "997  As of June 30, 2006, the outstanding mortgage ...     c\n",
              "998  The General Partner and the Commodity Broker p...     c\n",
              "999  Clients pay for inclusion of their interviews ...     c\n",
              "\n",
              "[870 rows x 2 columns]>"
            ]
          },
          "metadata": {
            "tags": []
          },
          "execution_count": 15
        }
      ]
    },
    {
      "cell_type": "code",
      "metadata": {
        "id": "tGFmbKe7zILK",
        "colab_type": "code",
        "colab": {
          "base_uri": "https://localhost:8080/",
          "height": 255
        },
        "outputId": "0cdd935b-d42d-44bc-9bb3-20ceb9f78659"
      },
      "source": [
        "df[df.label == 'u'].count"
      ],
      "execution_count": 24,
      "outputs": [
        {
          "output_type": "execute_result",
          "data": {
            "text/plain": [
              "<bound method DataFrame.count of                                               sentence label\n",
              "14   As a result of its insurance policy coverage f...     u\n",
              "16   A given automobile auction will employ both fu...     u\n",
              "28   The FCC had tentatively concluded that it will...     u\n",
              "34   The Partnership is currently evaluating the ca...     u\n",
              "38   In connection with this sale, we were required...     u\n",
              "..                                                 ...   ...\n",
              "957  We believe the following accounting estimates ...     u\n",
              "962  Retained control by our principal stockholders...     u\n",
              "984  It is possible that Pinnacle may choose to ele...     u\n",
              "988  Purported classes include individuals claiming...     u\n",
              "992  Because of the imposition of the foregoing add...     u\n",
              "\n",
              "[130 rows x 2 columns]>"
            ]
          },
          "metadata": {
            "tags": []
          },
          "execution_count": 24
        }
      ]
    },
    {
      "cell_type": "code",
      "metadata": {
        "id": "pCr256hltcKW",
        "colab_type": "code",
        "colab": {}
      },
      "source": [
        "df[\"sent_emb\"] = word_embeddings_list\n",
        "df[\"sent_avg_emb\"] = sentence_embeddings_list\n",
        "df[\"label\"] = labels_idx"
      ],
      "execution_count": 30,
      "outputs": []
    },
    {
      "cell_type": "code",
      "metadata": {
        "id": "1UbgoZm9tm_B",
        "colab_type": "code",
        "colab": {
          "base_uri": "https://localhost:8080/",
          "height": 589
        },
        "outputId": "960110f7-0fec-4734-fa3b-49a9d9304bbf"
      },
      "source": [
        "df"
      ],
      "execution_count": 31,
      "outputs": [
        {
          "output_type": "execute_result",
          "data": {
            "text/html": [
              "<div>\n",
              "<style scoped>\n",
              "    .dataframe tbody tr th:only-of-type {\n",
              "        vertical-align: middle;\n",
              "    }\n",
              "\n",
              "    .dataframe tbody tr th {\n",
              "        vertical-align: top;\n",
              "    }\n",
              "\n",
              "    .dataframe thead th {\n",
              "        text-align: right;\n",
              "    }\n",
              "</style>\n",
              "<table border=\"1\" class=\"dataframe\">\n",
              "  <thead>\n",
              "    <tr style=\"text-align: right;\">\n",
              "      <th></th>\n",
              "      <th>sentence</th>\n",
              "      <th>label</th>\n",
              "      <th>sent_emb</th>\n",
              "      <th>sent_avg_emb</th>\n",
              "    </tr>\n",
              "  </thead>\n",
              "  <tbody>\n",
              "    <tr>\n",
              "      <th>0</th>\n",
              "      <td>For example, we may record as regulatory asset...</td>\n",
              "      <td>0</td>\n",
              "      <td>[[-3.0068293, 2.1747842, 0.08535655, -1.333302...</td>\n",
              "      <td>[-0.07628794, 0.07385665, 0.22439034, 0.113049...</td>\n",
              "    </tr>\n",
              "    <tr>\n",
              "      <th>1</th>\n",
              "      <td>In connection with this transaction, all of ou...</td>\n",
              "      <td>0</td>\n",
              "      <td>[[-7.2349834, 0.7282898, 0.44459042, -3.69149,...</td>\n",
              "      <td>[-0.2181889, 0.25167054, 0.21129918, 0.0914831...</td>\n",
              "    </tr>\n",
              "    <tr>\n",
              "      <th>2</th>\n",
              "      <td>The warrants were valued using the Black-Schol...</td>\n",
              "      <td>0</td>\n",
              "      <td>[[-4.7428164, -2.0988667, 0.5116024, -0.578443...</td>\n",
              "      <td>[-0.28901023, 0.14081945, 0.17879683, 0.128653...</td>\n",
              "    </tr>\n",
              "    <tr>\n",
              "      <th>3</th>\n",
              "      <td>In July of 2006, we entered into an operating ...</td>\n",
              "      <td>0</td>\n",
              "      <td>[[-9.793489, -0.65220696, 0.13868378, 1.696403...</td>\n",
              "      <td>[-0.26589411, 0.29738006, 0.2962963, -0.096300...</td>\n",
              "    </tr>\n",
              "    <tr>\n",
              "      <th>4</th>\n",
              "      <td>Certain regulatory assets do not result from c...</td>\n",
              "      <td>0</td>\n",
              "      <td>[[-3.8283665, 4.249455, -0.1129528, -0.4282031...</td>\n",
              "      <td>[-0.24734896, 0.32598937, 0.28862736, 0.164214...</td>\n",
              "    </tr>\n",
              "    <tr>\n",
              "      <th>...</th>\n",
              "      <td>...</td>\n",
              "      <td>...</td>\n",
              "      <td>...</td>\n",
              "      <td>...</td>\n",
              "    </tr>\n",
              "    <tr>\n",
              "      <th>995</th>\n",
              "      <td>The 2000 volumes reflect the impact of additio...</td>\n",
              "      <td>0</td>\n",
              "      <td>[[-7.4123354, 0.45839158, -0.9591343, -0.77836...</td>\n",
              "      <td>[-0.65662414, 0.1849709, 0.38781762, -0.004934...</td>\n",
              "    </tr>\n",
              "    <tr>\n",
              "      <th>996</th>\n",
              "      <td>The exercise price per share for each such opt...</td>\n",
              "      <td>0</td>\n",
              "      <td>[[-1.9446385, -1.0628954, -0.9985801, -1.54941...</td>\n",
              "      <td>[-0.33660322, 0.20990066, 0.1513533, 0.1885641...</td>\n",
              "    </tr>\n",
              "    <tr>\n",
              "      <th>997</th>\n",
              "      <td>As of June 30, 2006, the outstanding mortgage ...</td>\n",
              "      <td>0</td>\n",
              "      <td>[[-10.131733, -0.16516311, 1.8880061, -1.89035...</td>\n",
              "      <td>[-0.6541173, 0.2995038, 0.25971296, -0.0529209...</td>\n",
              "    </tr>\n",
              "    <tr>\n",
              "      <th>998</th>\n",
              "      <td>The General Partner and the Commodity Broker p...</td>\n",
              "      <td>0</td>\n",
              "      <td>[[-5.572422, 2.187811, -0.925772, -1.2603581, ...</td>\n",
              "      <td>[-0.2163732, 0.26890123, 0.09922831, -0.040265...</td>\n",
              "    </tr>\n",
              "    <tr>\n",
              "      <th>999</th>\n",
              "      <td>Clients pay for inclusion of their interviews ...</td>\n",
              "      <td>0</td>\n",
              "      <td>[[1.8370683, 0.5006188, 1.0635892, 0.4025683, ...</td>\n",
              "      <td>[-0.14310639, 0.21774745, 0.077866174, 0.10760...</td>\n",
              "    </tr>\n",
              "  </tbody>\n",
              "</table>\n",
              "<p>1000 rows × 4 columns</p>\n",
              "</div>"
            ],
            "text/plain": [
              "                                              sentence  ...                                       sent_avg_emb\n",
              "0    For example, we may record as regulatory asset...  ...  [-0.07628794, 0.07385665, 0.22439034, 0.113049...\n",
              "1    In connection with this transaction, all of ou...  ...  [-0.2181889, 0.25167054, 0.21129918, 0.0914831...\n",
              "2    The warrants were valued using the Black-Schol...  ...  [-0.28901023, 0.14081945, 0.17879683, 0.128653...\n",
              "3    In July of 2006, we entered into an operating ...  ...  [-0.26589411, 0.29738006, 0.2962963, -0.096300...\n",
              "4    Certain regulatory assets do not result from c...  ...  [-0.24734896, 0.32598937, 0.28862736, 0.164214...\n",
              "..                                                 ...  ...                                                ...\n",
              "995  The 2000 volumes reflect the impact of additio...  ...  [-0.65662414, 0.1849709, 0.38781762, -0.004934...\n",
              "996  The exercise price per share for each such opt...  ...  [-0.33660322, 0.20990066, 0.1513533, 0.1885641...\n",
              "997  As of June 30, 2006, the outstanding mortgage ...  ...  [-0.6541173, 0.2995038, 0.25971296, -0.0529209...\n",
              "998  The General Partner and the Commodity Broker p...  ...  [-0.2163732, 0.26890123, 0.09922831, -0.040265...\n",
              "999  Clients pay for inclusion of their interviews ...  ...  [-0.14310639, 0.21774745, 0.077866174, 0.10760...\n",
              "\n",
              "[1000 rows x 4 columns]"
            ]
          },
          "metadata": {
            "tags": []
          },
          "execution_count": 31
        }
      ]
    },
    {
      "cell_type": "code",
      "metadata": {
        "id": "EmMTjRg6u73I",
        "colab_type": "code",
        "colab": {
          "base_uri": "https://localhost:8080/",
          "height": 51
        },
        "outputId": "0e5dc34c-0500-4bd3-ee43-2472cf47e556"
      },
      "source": [
        "max = 0\n",
        "min = float(\"inf\")\n",
        "for i in word_embeddings_list:\n",
        "    if i.shape[0] > max:\n",
        "        max = i.shape[0]\n",
        "    if i.shape[0] < min:\n",
        "        min = i.shape[0]\n",
        "print(max)\n",
        "print(min)"
      ],
      "execution_count": 32,
      "outputs": [
        {
          "output_type": "stream",
          "text": [
            "172\n",
            "6\n"
          ],
          "name": "stdout"
        }
      ]
    },
    {
      "cell_type": "code",
      "metadata": {
        "id": "C3sVeGN8v2py",
        "colab_type": "code",
        "colab": {}
      },
      "source": [
        "# Add padding to sent_emb\n",
        "padded_embeddings_list = []\n",
        "for emb in word_embeddings_list:\n",
        "    if emb.shape[0] != max:\n",
        "        tmp = np.vstack((emb,np.zeros((max-emb.shape[0],768))))\n",
        "        padded_embeddings_list.append(tmp)\n",
        "    else:\n",
        "        padded_embeddings_list.append(emb)"
      ],
      "execution_count": 33,
      "outputs": []
    },
    {
      "cell_type": "code",
      "metadata": {
        "id": "6_By0PX8xT1z",
        "colab_type": "code",
        "colab": {
          "base_uri": "https://localhost:8080/",
          "height": 34
        },
        "outputId": "f1fb10fc-d693-4227-c275-db7c2e262804"
      },
      "source": [
        "# Check\n",
        "padded_embeddings_list[7].shape"
      ],
      "execution_count": 34,
      "outputs": [
        {
          "output_type": "execute_result",
          "data": {
            "text/plain": [
              "(172, 768)"
            ]
          },
          "metadata": {
            "tags": []
          },
          "execution_count": 34
        }
      ]
    },
    {
      "cell_type": "code",
      "metadata": {
        "id": "u2WdV4_GxnRy",
        "colab_type": "code",
        "colab": {}
      },
      "source": [
        "df[\"padded_sent\"] = padded_embeddings_list"
      ],
      "execution_count": 35,
      "outputs": []
    },
    {
      "cell_type": "code",
      "metadata": {
        "id": "U7ZzROImyXqp",
        "colab_type": "code",
        "colab": {
          "base_uri": "https://localhost:8080/",
          "height": 589
        },
        "outputId": "e35517a8-1153-423a-9d47-5fae4101bb1b"
      },
      "source": [
        "df"
      ],
      "execution_count": 36,
      "outputs": [
        {
          "output_type": "execute_result",
          "data": {
            "text/html": [
              "<div>\n",
              "<style scoped>\n",
              "    .dataframe tbody tr th:only-of-type {\n",
              "        vertical-align: middle;\n",
              "    }\n",
              "\n",
              "    .dataframe tbody tr th {\n",
              "        vertical-align: top;\n",
              "    }\n",
              "\n",
              "    .dataframe thead th {\n",
              "        text-align: right;\n",
              "    }\n",
              "</style>\n",
              "<table border=\"1\" class=\"dataframe\">\n",
              "  <thead>\n",
              "    <tr style=\"text-align: right;\">\n",
              "      <th></th>\n",
              "      <th>sentence</th>\n",
              "      <th>label</th>\n",
              "      <th>sent_emb</th>\n",
              "      <th>sent_avg_emb</th>\n",
              "      <th>padded_sent</th>\n",
              "    </tr>\n",
              "  </thead>\n",
              "  <tbody>\n",
              "    <tr>\n",
              "      <th>0</th>\n",
              "      <td>For example, we may record as regulatory asset...</td>\n",
              "      <td>0</td>\n",
              "      <td>[[-3.0068293, 2.1747842, 0.08535655, -1.333302...</td>\n",
              "      <td>[-0.07628794, 0.07385665, 0.22439034, 0.113049...</td>\n",
              "      <td>[[-3.006829261779785, 2.1747841835021973, 0.08...</td>\n",
              "    </tr>\n",
              "    <tr>\n",
              "      <th>1</th>\n",
              "      <td>In connection with this transaction, all of ou...</td>\n",
              "      <td>0</td>\n",
              "      <td>[[-7.2349834, 0.7282898, 0.44459042, -3.69149,...</td>\n",
              "      <td>[-0.2181889, 0.25167054, 0.21129918, 0.0914831...</td>\n",
              "      <td>[[-7.234983444213867, 0.728289783000946, 0.444...</td>\n",
              "    </tr>\n",
              "    <tr>\n",
              "      <th>2</th>\n",
              "      <td>The warrants were valued using the Black-Schol...</td>\n",
              "      <td>0</td>\n",
              "      <td>[[-4.7428164, -2.0988667, 0.5116024, -0.578443...</td>\n",
              "      <td>[-0.28901023, 0.14081945, 0.17879683, 0.128653...</td>\n",
              "      <td>[[-4.74281644821167, -2.0988667011260986, 0.51...</td>\n",
              "    </tr>\n",
              "    <tr>\n",
              "      <th>3</th>\n",
              "      <td>In July of 2006, we entered into an operating ...</td>\n",
              "      <td>0</td>\n",
              "      <td>[[-9.793489, -0.65220696, 0.13868378, 1.696403...</td>\n",
              "      <td>[-0.26589411, 0.29738006, 0.2962963, -0.096300...</td>\n",
              "      <td>[[-9.793489456176758, -0.6522069573402405, 0.1...</td>\n",
              "    </tr>\n",
              "    <tr>\n",
              "      <th>4</th>\n",
              "      <td>Certain regulatory assets do not result from c...</td>\n",
              "      <td>0</td>\n",
              "      <td>[[-3.8283665, 4.249455, -0.1129528, -0.4282031...</td>\n",
              "      <td>[-0.24734896, 0.32598937, 0.28862736, 0.164214...</td>\n",
              "      <td>[[-3.82836651802063, 4.249454975128174, -0.112...</td>\n",
              "    </tr>\n",
              "    <tr>\n",
              "      <th>...</th>\n",
              "      <td>...</td>\n",
              "      <td>...</td>\n",
              "      <td>...</td>\n",
              "      <td>...</td>\n",
              "      <td>...</td>\n",
              "    </tr>\n",
              "    <tr>\n",
              "      <th>995</th>\n",
              "      <td>The 2000 volumes reflect the impact of additio...</td>\n",
              "      <td>0</td>\n",
              "      <td>[[-7.4123354, 0.45839158, -0.9591343, -0.77836...</td>\n",
              "      <td>[-0.65662414, 0.1849709, 0.38781762, -0.004934...</td>\n",
              "      <td>[[-7.412335395812988, 0.45839157700538635, -0....</td>\n",
              "    </tr>\n",
              "    <tr>\n",
              "      <th>996</th>\n",
              "      <td>The exercise price per share for each such opt...</td>\n",
              "      <td>0</td>\n",
              "      <td>[[-1.9446385, -1.0628954, -0.9985801, -1.54941...</td>\n",
              "      <td>[-0.33660322, 0.20990066, 0.1513533, 0.1885641...</td>\n",
              "      <td>[[-1.9446384906768799, -1.06289541721344, -0.9...</td>\n",
              "    </tr>\n",
              "    <tr>\n",
              "      <th>997</th>\n",
              "      <td>As of June 30, 2006, the outstanding mortgage ...</td>\n",
              "      <td>0</td>\n",
              "      <td>[[-10.131733, -0.16516311, 1.8880061, -1.89035...</td>\n",
              "      <td>[-0.6541173, 0.2995038, 0.25971296, -0.0529209...</td>\n",
              "      <td>[[-10.131732940673828, -0.16516311466693878, 1...</td>\n",
              "    </tr>\n",
              "    <tr>\n",
              "      <th>998</th>\n",
              "      <td>The General Partner and the Commodity Broker p...</td>\n",
              "      <td>0</td>\n",
              "      <td>[[-5.572422, 2.187811, -0.925772, -1.2603581, ...</td>\n",
              "      <td>[-0.2163732, 0.26890123, 0.09922831, -0.040265...</td>\n",
              "      <td>[[-5.572422027587891, 2.1878108978271484, -0.9...</td>\n",
              "    </tr>\n",
              "    <tr>\n",
              "      <th>999</th>\n",
              "      <td>Clients pay for inclusion of their interviews ...</td>\n",
              "      <td>0</td>\n",
              "      <td>[[1.8370683, 0.5006188, 1.0635892, 0.4025683, ...</td>\n",
              "      <td>[-0.14310639, 0.21774745, 0.077866174, 0.10760...</td>\n",
              "      <td>[[1.8370683193206787, 0.5006188154220581, 1.06...</td>\n",
              "    </tr>\n",
              "  </tbody>\n",
              "</table>\n",
              "<p>1000 rows × 5 columns</p>\n",
              "</div>"
            ],
            "text/plain": [
              "                                              sentence  ...                                        padded_sent\n",
              "0    For example, we may record as regulatory asset...  ...  [[-3.006829261779785, 2.1747841835021973, 0.08...\n",
              "1    In connection with this transaction, all of ou...  ...  [[-7.234983444213867, 0.728289783000946, 0.444...\n",
              "2    The warrants were valued using the Black-Schol...  ...  [[-4.74281644821167, -2.0988667011260986, 0.51...\n",
              "3    In July of 2006, we entered into an operating ...  ...  [[-9.793489456176758, -0.6522069573402405, 0.1...\n",
              "4    Certain regulatory assets do not result from c...  ...  [[-3.82836651802063, 4.249454975128174, -0.112...\n",
              "..                                                 ...  ...                                                ...\n",
              "995  The 2000 volumes reflect the impact of additio...  ...  [[-7.412335395812988, 0.45839157700538635, -0....\n",
              "996  The exercise price per share for each such opt...  ...  [[-1.9446384906768799, -1.06289541721344, -0.9...\n",
              "997  As of June 30, 2006, the outstanding mortgage ...  ...  [[-10.131732940673828, -0.16516311466693878, 1...\n",
              "998  The General Partner and the Commodity Broker p...  ...  [[-5.572422027587891, 2.1878108978271484, -0.9...\n",
              "999  Clients pay for inclusion of their interviews ...  ...  [[1.8370683193206787, 0.5006188154220581, 1.06...\n",
              "\n",
              "[1000 rows x 5 columns]"
            ]
          },
          "metadata": {
            "tags": []
          },
          "execution_count": 36
        }
      ]
    },
    {
      "cell_type": "markdown",
      "metadata": {
        "id": "wEaoFx3F1ohU",
        "colab_type": "text"
      },
      "source": [
        "## Split data in a balanced way"
      ]
    },
    {
      "cell_type": "code",
      "metadata": {
        "colab_type": "code",
        "id": "4sBdss_30Fra",
        "colab": {}
      },
      "source": [
        "train = df[df.label==0].iloc[:695,:]"
      ],
      "execution_count": 40,
      "outputs": []
    },
    {
      "cell_type": "code",
      "metadata": {
        "colab_type": "code",
        "id": "24P0HiVp0Fre",
        "colab": {}
      },
      "source": [
        "valid = df[df.label==0].iloc[695:783,:]"
      ],
      "execution_count": 41,
      "outputs": []
    },
    {
      "cell_type": "code",
      "metadata": {
        "colab_type": "code",
        "id": "n3l6Kpd90Frh",
        "colab": {}
      },
      "source": [
        "test = df[df.label==0].iloc[783:,:]"
      ],
      "execution_count": 42,
      "outputs": []
    },
    {
      "cell_type": "code",
      "metadata": {
        "colab_type": "code",
        "id": "oi78UTj00Frj",
        "colab": {
          "base_uri": "https://localhost:8080/",
          "height": 34
        },
        "outputId": "03b0f106-03e1-415c-87b9-e70d6519f708"
      },
      "source": [
        "print(train.shape,valid.shape,test.shape)"
      ],
      "execution_count": 43,
      "outputs": [
        {
          "output_type": "stream",
          "text": [
            "(695, 5) (88, 5) (87, 5)\n"
          ],
          "name": "stdout"
        }
      ]
    },
    {
      "cell_type": "code",
      "metadata": {
        "colab_type": "code",
        "id": "J6lw-FR_0Frl",
        "colab": {}
      },
      "source": [
        "train1 = df[df.label==1].iloc[:104,:]"
      ],
      "execution_count": 44,
      "outputs": []
    },
    {
      "cell_type": "code",
      "metadata": {
        "colab_type": "code",
        "id": "P_WUKIi00Fro",
        "colab": {}
      },
      "source": [
        "valid1 = df[df.label==1].iloc[104:117,:]"
      ],
      "execution_count": 45,
      "outputs": []
    },
    {
      "cell_type": "code",
      "metadata": {
        "colab_type": "code",
        "id": "pfFqJ7vK0Frr",
        "colab": {}
      },
      "source": [
        "test1 = df[df.label==1].iloc[117:,:]"
      ],
      "execution_count": 46,
      "outputs": []
    },
    {
      "cell_type": "code",
      "metadata": {
        "colab_type": "code",
        "id": "-ua36F9w0Frt",
        "colab": {
          "base_uri": "https://localhost:8080/",
          "height": 34
        },
        "outputId": "7c26759b-e033-40f0-e056-65a13a63f8f0"
      },
      "source": [
        "print(train1.shape,valid1.shape,test1.shape)"
      ],
      "execution_count": 47,
      "outputs": [
        {
          "output_type": "stream",
          "text": [
            "(104, 5) (13, 5) (13, 5)\n"
          ],
          "name": "stdout"
        }
      ]
    },
    {
      "cell_type": "code",
      "metadata": {
        "colab_type": "code",
        "id": "KL4Qt7YR0Frw",
        "colab": {}
      },
      "source": [
        "train_final = pd.concat([train, train1], ignore_index=True)\n",
        "valid_final = pd.concat([valid, valid1], ignore_index=True)\n",
        "test_final = pd.concat([test, test1], ignore_index=True)"
      ],
      "execution_count": 49,
      "outputs": []
    },
    {
      "cell_type": "code",
      "metadata": {
        "id": "vCXmgN1M0gzA",
        "colab_type": "code",
        "colab": {
          "base_uri": "https://localhost:8080/",
          "height": 34
        },
        "outputId": "9fa1d139-ce73-4b19-a4d2-2bf3fcdfce63"
      },
      "source": [
        "print(train_final.shape,valid_final.shape,test_final.shape)"
      ],
      "execution_count": 50,
      "outputs": [
        {
          "output_type": "stream",
          "text": [
            "(799, 5) (101, 5) (100, 5)\n"
          ],
          "name": "stdout"
        }
      ]
    },
    {
      "cell_type": "code",
      "metadata": {
        "id": "IU6UeGKl01tW",
        "colab_type": "code",
        "colab": {
          "base_uri": "https://localhost:8080/",
          "height": 193
        },
        "outputId": "b39809a1-4303-482f-b11d-4d91637c36a4"
      },
      "source": [
        "train_final.head(3)"
      ],
      "execution_count": 51,
      "outputs": [
        {
          "output_type": "execute_result",
          "data": {
            "text/html": [
              "<div>\n",
              "<style scoped>\n",
              "    .dataframe tbody tr th:only-of-type {\n",
              "        vertical-align: middle;\n",
              "    }\n",
              "\n",
              "    .dataframe tbody tr th {\n",
              "        vertical-align: top;\n",
              "    }\n",
              "\n",
              "    .dataframe thead th {\n",
              "        text-align: right;\n",
              "    }\n",
              "</style>\n",
              "<table border=\"1\" class=\"dataframe\">\n",
              "  <thead>\n",
              "    <tr style=\"text-align: right;\">\n",
              "      <th></th>\n",
              "      <th>sentence</th>\n",
              "      <th>label</th>\n",
              "      <th>sent_emb</th>\n",
              "      <th>sent_avg_emb</th>\n",
              "      <th>padded_sent</th>\n",
              "    </tr>\n",
              "  </thead>\n",
              "  <tbody>\n",
              "    <tr>\n",
              "      <th>0</th>\n",
              "      <td>For example, we may record as regulatory asset...</td>\n",
              "      <td>0</td>\n",
              "      <td>[[-3.0068293, 2.1747842, 0.08535655, -1.333302...</td>\n",
              "      <td>[-0.07628794, 0.07385665, 0.22439034, 0.113049...</td>\n",
              "      <td>[[-3.006829261779785, 2.1747841835021973, 0.08...</td>\n",
              "    </tr>\n",
              "    <tr>\n",
              "      <th>1</th>\n",
              "      <td>In connection with this transaction, all of ou...</td>\n",
              "      <td>0</td>\n",
              "      <td>[[-7.2349834, 0.7282898, 0.44459042, -3.69149,...</td>\n",
              "      <td>[-0.2181889, 0.25167054, 0.21129918, 0.0914831...</td>\n",
              "      <td>[[-7.234983444213867, 0.728289783000946, 0.444...</td>\n",
              "    </tr>\n",
              "    <tr>\n",
              "      <th>2</th>\n",
              "      <td>The warrants were valued using the Black-Schol...</td>\n",
              "      <td>0</td>\n",
              "      <td>[[-4.7428164, -2.0988667, 0.5116024, -0.578443...</td>\n",
              "      <td>[-0.28901023, 0.14081945, 0.17879683, 0.128653...</td>\n",
              "      <td>[[-4.74281644821167, -2.0988667011260986, 0.51...</td>\n",
              "    </tr>\n",
              "  </tbody>\n",
              "</table>\n",
              "</div>"
            ],
            "text/plain": [
              "                                            sentence  ...                                        padded_sent\n",
              "0  For example, we may record as regulatory asset...  ...  [[-3.006829261779785, 2.1747841835021973, 0.08...\n",
              "1  In connection with this transaction, all of ou...  ...  [[-7.234983444213867, 0.728289783000946, 0.444...\n",
              "2  The warrants were valued using the Black-Schol...  ...  [[-4.74281644821167, -2.0988667011260986, 0.51...\n",
              "\n",
              "[3 rows x 5 columns]"
            ]
          },
          "metadata": {
            "tags": []
          },
          "execution_count": 51
        }
      ]
    },
    {
      "cell_type": "markdown",
      "metadata": {
        "id": "joKmQs1muRM8",
        "colab_type": "text"
      },
      "source": [
        "# Dataset"
      ]
    },
    {
      "cell_type": "code",
      "metadata": {
        "id": "Zddxqzms3dYP",
        "colab_type": "code",
        "colab": {}
      },
      "source": [
        "from torch.utils.data import TensorDataset, DataLoader"
      ],
      "execution_count": 52,
      "outputs": []
    },
    {
      "cell_type": "code",
      "metadata": {
        "id": "GSrGsbtvt701",
        "colab_type": "code",
        "colab": {}
      },
      "source": [
        "class EmbeddingDataset(Dataset):\n",
        "    def __init__(self, df):\n",
        "        self.df = df\n",
        "\n",
        "    def __len__(self):\n",
        "        return df.shape[0]\n",
        "\n",
        "    def __getitem__(self, idx):\n",
        "        # cannot return in the form of numpy array\n",
        "        x1 = self.df[\"padded_sent\"][idx]\n",
        "        x2 = self.df[\"sent_avg_emb\"][idx]\n",
        "        y = self.df[\"label\"][idx]\n",
        "        return x1,x2,y"
      ],
      "execution_count": 53,
      "outputs": []
    },
    {
      "cell_type": "code",
      "metadata": {
        "id": "a6zptcqc3cG7",
        "colab_type": "code",
        "colab": {}
      },
      "source": [
        "my_x = train_final[\"padded_sent\"]\n",
        "my_y = train_final[\"label\"]\n",
        "\n",
        "tensor_x = torch.Tensor(my_x) \n",
        "tensor_y = torch.Tensor(my_y)\n",
        "\n",
        "train_ds = TensorDataset(tensor_x,tensor_y) \n",
        "train_dl = DataLoader(train_ds) "
      ],
      "execution_count": 55,
      "outputs": []
    },
    {
      "cell_type": "code",
      "metadata": {
        "id": "F5xFJdGC4Gl3",
        "colab_type": "code",
        "colab": {}
      },
      "source": [
        "my_x = valid_final[\"padded_sent\"]\n",
        "my_y = valid_final[\"label\"]\n",
        "\n",
        "tensor_x = torch.Tensor(my_x) \n",
        "tensor_y = torch.Tensor(my_y)\n",
        "\n",
        "valid_ds = TensorDataset(tensor_x,tensor_y) \n",
        "valid_dl = DataLoader(valid_ds) "
      ],
      "execution_count": 56,
      "outputs": []
    },
    {
      "cell_type": "code",
      "metadata": {
        "id": "lBwbq0CJ4GpH",
        "colab_type": "code",
        "colab": {}
      },
      "source": [
        "my_x = test_final[\"padded_sent\"]\n",
        "my_y = test_final[\"label\"]\n",
        "\n",
        "tensor_x = torch.Tensor(my_x) \n",
        "tensor_y = torch.Tensor(my_y)\n",
        "\n",
        "test_ds = TensorDataset(tensor_x,tensor_y) \n",
        "test_dl = DataLoader(test_ds) "
      ],
      "execution_count": 57,
      "outputs": []
    },
    {
      "cell_type": "code",
      "metadata": {
        "id": "hidGfV2rwrvJ",
        "colab_type": "code",
        "colab": {}
      },
      "source": [
        "# train_ds = EmbeddingDataset(train_df)\n",
        "# valid_ds = EmbeddingDataset(valid_df)\n",
        "# test_ds = EmbeddingDataset(test_df)"
      ],
      "execution_count": null,
      "outputs": []
    },
    {
      "cell_type": "markdown",
      "metadata": {
        "id": "_f93ba_h-JZE",
        "colab_type": "text"
      },
      "source": [
        "# Model and Training"
      ]
    },
    {
      "cell_type": "code",
      "metadata": {
        "id": "YywGEyZo8MgM",
        "colab_type": "code",
        "colab": {}
      },
      "source": [
        "def update_optimizer(optimizer, lr):\n",
        "    for i, param_group in enumerate(optimizer.param_groups):\n",
        "        param_group[\"lr\"] = lr"
      ],
      "execution_count": 58,
      "outputs": []
    },
    {
      "cell_type": "code",
      "metadata": {
        "id": "VDbmmSFg8QYu",
        "colab_type": "code",
        "colab": {}
      },
      "source": [
        "def save_model(m, p): torch.save(m.state_dict(), p)\n",
        "    \n",
        "def load_model(m, p): m.load_state_dict(torch.load(p))"
      ],
      "execution_count": 59,
      "outputs": []
    },
    {
      "cell_type": "code",
      "metadata": {
        "id": "K89V2fi7wrxl",
        "colab_type": "code",
        "colab": {}
      },
      "source": [
        "class GRUModel(torch.nn.Module) :\n",
        "    def __init__(self, embedding_dim, hidden_dim):\n",
        "        super(GRUModel,self).__init__()\n",
        "        self.hidden_dim = hidden_dim\n",
        "        self.gru = nn.GRU(embedding_dim, hidden_dim, batch_first=True)\n",
        "        self.linear = nn.Linear(hidden_dim, 1)\n",
        "        # self.dropout = nn.Dropout(0.5)\n",
        "\n",
        "    def forward(self, x):\n",
        "        out_pack, ht = self.gru(x)\n",
        "        return self.linear(ht[-1])"
      ],
      "execution_count": 60,
      "outputs": []
    },
    {
      "cell_type": "code",
      "metadata": {
        "id": "vA0ng4Tz0KHl",
        "colab_type": "code",
        "colab": {}
      },
      "source": [
        "def train_epocs(model, optimizer, train_dl, valid_dl, epochs=10):\n",
        "    for i in range(epochs):\n",
        "        model.train()\n",
        "        sum_loss = 0.0\n",
        "        total = 0\n",
        "        best_val_acc = 0\n",
        "        for x, y in train_dl:\n",
        "            x = x.long() #.cuda()\n",
        "            y = y.float() #.cuda()\n",
        "            y_pred = model(x.float())\n",
        "            optimizer.zero_grad()\n",
        "            loss = F.binary_cross_entropy_with_logits(y_pred, y.unsqueeze(1))\n",
        "            loss.backward()\n",
        "            optimizer.step()\n",
        "            sum_loss += loss.item()*y.shape[0]\n",
        "            total += y.shape[0]\n",
        "        val_loss, val_acc = val_metrics(model, valid_dl)\n",
        "        if best_val_acc < val_acc:\n",
        "            best_val_acc = val_acc\n",
        "            path = \"{0}/models/model_acc_{1:.0f}.pth\".format(PATH,100*val_acc) \n",
        "            save_model(model, path)\n",
        "            print(path)\n",
        "        if i % 5 == 1:\n",
        "            print(\"train loss %.3f val loss %.3f and val accuracy %.3f\" % (sum_loss/total, val_loss, val_acc))"
      ],
      "execution_count": 61,
      "outputs": []
    },
    {
      "cell_type": "code",
      "metadata": {
        "id": "lhL3ggw-0uoC",
        "colab_type": "code",
        "colab": {}
      },
      "source": [
        "def val_metrics(model, valid_dl):\n",
        "    model.eval()\n",
        "    correct = 0\n",
        "    total = 0\n",
        "    sum_loss = 0.0\n",
        "    for x, y in valid_dl:\n",
        "        x = x.long() #.cuda()\n",
        "        y = y.float().unsqueeze(1) #.cuda()\n",
        "        y_hat = model(x.float())\n",
        "        loss = F.binary_cross_entropy_with_logits(y_hat, y)\n",
        "        y_pred = y_hat > 0\n",
        "        correct += (y_pred.float() == y).float().sum()\n",
        "        total += y.shape[0]\n",
        "        sum_loss += loss.item()*y.shape[0]\n",
        "    return sum_loss/total, correct/total"
      ],
      "execution_count": 62,
      "outputs": []
    },
    {
      "cell_type": "code",
      "metadata": {
        "id": "VtAM2e5102ZX",
        "colab_type": "code",
        "colab": {}
      },
      "source": [
        "batch_size = 10\n",
        "train_dl = DataLoader(train_ds, batch_size=batch_size, shuffle=True)\n",
        "valid_dl = DataLoader(valid_ds, batch_size=batch_size)\n",
        "test_dl = DataLoader(test_ds, batch_size=batch_size)"
      ],
      "execution_count": 63,
      "outputs": []
    },
    {
      "cell_type": "code",
      "metadata": {
        "id": "ptBC6_aO1EeW",
        "colab_type": "code",
        "colab": {}
      },
      "source": [
        "model = GRUModel(embedding_dim=768, hidden_dim=15) #.cuda()\n",
        "\n",
        "parameters = filter(lambda p: p.requires_grad, model.parameters())\n",
        "optimizer = torch.optim.Adam(parameters, lr=0.01)"
      ],
      "execution_count": 64,
      "outputs": []
    },
    {
      "cell_type": "code",
      "metadata": {
        "id": "GZpEz2QI1Zlr",
        "colab_type": "code",
        "colab": {
          "base_uri": "https://localhost:8080/",
          "height": 221
        },
        "outputId": "e8a89ce0-d696-4833-d33f-4b60c3d9fdaa"
      },
      "source": [
        "train_epocs(model, optimizer, train_dl, valid_dl, epochs=10)"
      ],
      "execution_count": 65,
      "outputs": [
        {
          "output_type": "stream",
          "text": [
            "/content/models/model_acc_87.pth\n",
            "/content/models/model_acc_87.pth\n",
            "train loss 0.388 val loss 0.385 and val accuracy 0.871\n",
            "/content/models/model_acc_87.pth\n",
            "/content/models/model_acc_87.pth\n",
            "/content/models/model_acc_87.pth\n",
            "/content/models/model_acc_87.pth\n",
            "/content/models/model_acc_87.pth\n",
            "train loss 0.390 val loss 0.384 and val accuracy 0.871\n",
            "/content/models/model_acc_87.pth\n",
            "/content/models/model_acc_87.pth\n",
            "/content/models/model_acc_87.pth\n"
          ],
          "name": "stdout"
        }
      ]
    },
    {
      "cell_type": "code",
      "metadata": {
        "id": "3moHj7_y53SI",
        "colab_type": "code",
        "colab": {
          "base_uri": "https://localhost:8080/",
          "height": 629
        },
        "outputId": "046e7ba0-75a3-4dd5-f97f-8defd50c0707"
      },
      "source": [
        "train_epocs(model, optimizer, train_dl, valid_dl, epochs=30)"
      ],
      "execution_count": null,
      "outputs": [
        {
          "output_type": "stream",
          "text": [
            "/content/models/model_acc_86.pth\n",
            "/content/models/model_acc_92.pth\n",
            "train loss 0.271 val loss 0.295 and val accuracy 0.919\n",
            "/content/models/model_acc_91.pth\n",
            "/content/models/model_acc_89.pth\n",
            "/content/models/model_acc_87.pth\n",
            "/content/models/model_acc_90.pth\n",
            "/content/models/model_acc_90.pth\n",
            "train loss 0.232 val loss 0.215 and val accuracy 0.899\n",
            "/content/models/model_acc_91.pth\n",
            "/content/models/model_acc_91.pth\n",
            "/content/models/model_acc_91.pth\n",
            "/content/models/model_acc_90.pth\n",
            "/content/models/model_acc_91.pth\n",
            "train loss 0.123 val loss 0.312 and val accuracy 0.909\n",
            "/content/models/model_acc_91.pth\n",
            "/content/models/model_acc_89.pth\n",
            "/content/models/model_acc_90.pth\n",
            "/content/models/model_acc_90.pth\n",
            "/content/models/model_acc_90.pth\n",
            "train loss 0.135 val loss 0.302 and val accuracy 0.899\n",
            "/content/models/model_acc_91.pth\n",
            "/content/models/model_acc_89.pth\n",
            "/content/models/model_acc_88.pth\n",
            "/content/models/model_acc_91.pth\n",
            "/content/models/model_acc_92.pth\n",
            "train loss 0.147 val loss 0.252 and val accuracy 0.919\n",
            "/content/models/model_acc_90.pth\n",
            "/content/models/model_acc_92.pth\n",
            "/content/models/model_acc_91.pth\n",
            "/content/models/model_acc_90.pth\n",
            "/content/models/model_acc_93.pth\n",
            "train loss 0.079 val loss 0.257 and val accuracy 0.929\n",
            "/content/models/model_acc_87.pth\n",
            "/content/models/model_acc_90.pth\n",
            "/content/models/model_acc_92.pth\n"
          ],
          "name": "stdout"
        }
      ]
    },
    {
      "cell_type": "code",
      "metadata": {
        "id": "bx_U1W1T_YRf",
        "colab_type": "code",
        "colab": {}
      },
      "source": [
        "load_model(model, \"/content/models/model_acc_93.pth\")"
      ],
      "execution_count": 66,
      "outputs": []
    },
    {
      "cell_type": "code",
      "metadata": {
        "id": "cAoZP3QD-ngo",
        "colab_type": "code",
        "colab": {
          "base_uri": "https://localhost:8080/",
          "height": 34
        },
        "outputId": "fe5a70f0-5f23-4a13-9b66-ffb5ddcc8768"
      },
      "source": [
        "val_metrics(model, test_dl)"
      ],
      "execution_count": 67,
      "outputs": [
        {
          "output_type": "execute_result",
          "data": {
            "text/plain": [
              "(0.11411478444933891, tensor(0.9700))"
            ]
          },
          "metadata": {
            "tags": []
          },
          "execution_count": 67
        }
      ]
    },
    {
      "cell_type": "code",
      "metadata": {
        "id": "CNxOp9xk19E0",
        "colab_type": "code",
        "colab": {}
      },
      "source": [
        "prediction = []"
      ],
      "execution_count": 68,
      "outputs": []
    },
    {
      "cell_type": "code",
      "metadata": {
        "id": "lESbogXd1ixl",
        "colab_type": "code",
        "colab": {}
      },
      "source": [
        "def test_metrics(model, test_dl):\n",
        "    prediction = []\n",
        "    model.eval()\n",
        "    correct = 0\n",
        "    total = 0\n",
        "    sum_loss = 0.0\n",
        "    for x, y in test_dl:\n",
        "        x = x.long() #.cuda()\n",
        "        y = y.float().unsqueeze(1) #.cuda()\n",
        "        y_hat = model(x.float())\n",
        "        loss = F.binary_cross_entropy_with_logits(y_hat, y)\n",
        "        y_pred = y_hat > 0\n",
        "        correct += (y_pred.float() == y).float().sum()\n",
        "        prediction.append((y_pred.float() == y).float().squeeze(1).numpy())\n",
        "        total += y.shape[0]\n",
        "        sum_loss += loss.item()*y.shape[0]\n",
        "    return prediction,correct/total"
      ],
      "execution_count": 92,
      "outputs": []
    },
    {
      "cell_type": "code",
      "metadata": {
        "id": "WN58dhqr2OcY",
        "colab_type": "code",
        "colab": {}
      },
      "source": [
        "result,measure = test_metrics(model, test_dl)"
      ],
      "execution_count": 95,
      "outputs": []
    },
    {
      "cell_type": "code",
      "metadata": {
        "id": "OUX6Yon140Mr",
        "colab_type": "code",
        "colab": {
          "base_uri": "https://localhost:8080/",
          "height": 34
        },
        "outputId": "73ab932a-1772-4af5-92f1-b98080b38002"
      },
      "source": [
        "measure"
      ],
      "execution_count": 96,
      "outputs": [
        {
          "output_type": "execute_result",
          "data": {
            "text/plain": [
              "tensor(0.9700)"
            ]
          },
          "metadata": {
            "tags": []
          },
          "execution_count": 96
        }
      ]
    },
    {
      "cell_type": "code",
      "metadata": {
        "id": "nCa0LVmj2UV8",
        "colab_type": "code",
        "colab": {}
      },
      "source": [
        "result_np = np.hstack(result)"
      ],
      "execution_count": 84,
      "outputs": []
    },
    {
      "cell_type": "code",
      "metadata": {
        "id": "W42a99KT38T6",
        "colab_type": "code",
        "colab": {}
      },
      "source": [
        "where_0 = np.where(result_np == 0)\n",
        "where_1 = np.where(result_np == 1)\n",
        "\n",
        "result_np[where_0] = 1\n",
        "result_np[where_1] = 0"
      ],
      "execution_count": 89,
      "outputs": []
    },
    {
      "cell_type": "code",
      "metadata": {
        "id": "FET6RWI23X2d",
        "colab_type": "code",
        "colab": {}
      },
      "source": [
        "from sklearn.metrics import classification_report"
      ],
      "execution_count": 86,
      "outputs": []
    },
    {
      "cell_type": "code",
      "metadata": {
        "id": "59Pkco3m3bbu",
        "colab_type": "code",
        "colab": {
          "base_uri": "https://localhost:8080/",
          "height": 170
        },
        "outputId": "7608a449-062c-4f36-85ad-e502416645b2"
      },
      "source": [
        "print(classification_report(my_y, result_np))"
      ],
      "execution_count": 90,
      "outputs": [
        {
          "output_type": "stream",
          "text": [
            "              precision    recall  f1-score   support\n",
            "\n",
            "           0       0.89      0.99      0.93        87\n",
            "           1       0.67      0.15      0.25        13\n",
            "\n",
            "    accuracy                           0.88       100\n",
            "   macro avg       0.78      0.57      0.59       100\n",
            "weighted avg       0.86      0.88      0.85       100\n",
            "\n"
          ],
          "name": "stdout"
        }
      ]
    },
    {
      "cell_type": "code",
      "metadata": {
        "id": "vGt5dcep3jPM",
        "colab_type": "code",
        "colab": {}
      },
      "source": [
        ""
      ],
      "execution_count": null,
      "outputs": []
    }
  ]
}