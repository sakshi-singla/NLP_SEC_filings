{
 "cells": [
  {
   "cell_type": "code",
   "execution_count": 1,
   "metadata": {},
   "outputs": [],
   "source": [
    "import codecs\n",
    "import itertools"
   ]
  },
  {
   "cell_type": "code",
   "execution_count": 2,
   "metadata": {},
   "outputs": [
    {
     "name": "stderr",
     "output_type": "stream",
     "text": [
      "/home/users/ssingla2/.local/lib/python3.6/site-packages/sklearn/utils/deprecation.py:144: FutureWarning: The sklearn.feature_extraction.stop_words module is  deprecated in version 0.22 and will be removed in version 0.24. The corresponding classes / functions should instead be imported from sklearn.feature_extraction.text. Anything that cannot be imported from sklearn.feature_extraction.text is now part of the private API.\n",
      "  warnings.warn(message, FutureWarning)\n"
     ]
    }
   ],
   "source": [
    "import sys\n",
    "import nltk\n",
    "from nltk.stem.porter import *\n",
    "from sklearn.feature_extraction import stop_words\n",
    "import xml.etree.cElementTree as ET\n",
    "from collections import Counter\n",
    "import string\n",
    "from sklearn.feature_extraction.text import TfidfVectorizer\n",
    "import zipfile\n",
    "import os\n",
    "import re\n",
    "from sklearn.feature_extraction.text import ENGLISH_STOP_WORDS\n",
    "# from wordcloud import WordCloud\n",
    "PARTIALS = False\n",
    "from nltk.tokenize import RegexpTokenizer"
   ]
  },
  {
   "cell_type": "code",
   "execution_count": 7,
   "metadata": {},
   "outputs": [],
   "source": [
    "file = open(\"expanded_model_20_words.txt\", \"r+\")\n",
    "uncertainty_str = file.read()\n",
    "import ast \n",
    "dictionary_orig_model_file = ast.literal_eval(uncertainty_str)"
   ]
  },
  {
   "cell_type": "code",
   "execution_count": null,
   "metadata": {},
   "outputs": [],
   "source": []
  },
  {
   "cell_type": "code",
   "execution_count": 9,
   "metadata": {},
   "outputs": [],
   "source": [
    "def get_keys_and_values(dictionary):\n",
    "    key_list=list(dictionary.keys())\n",
    "    value_list=list(itertools.chain.from_iterable(dictionary.values()))\n",
    "    word_list=list(set(key_list+value_list))\n",
    "    return word_list"
   ]
  },
  {
   "cell_type": "code",
   "execution_count": 11,
   "metadata": {},
   "outputs": [],
   "source": [
    "expanded_init_dict=get_keys_and_values(dictionary_orig_model_file['/ifs/gsb/usf_interns/Saved_models_CBOW_GPU/models/model_init'])"
   ]
  },
  {
   "cell_type": "code",
   "execution_count": 12,
   "metadata": {},
   "outputs": [
    {
     "data": {
      "text/plain": [
       "3195"
      ]
     },
     "execution_count": 12,
     "metadata": {},
     "output_type": "execute_result"
    }
   ],
   "source": [
    "len(expanded_init_dict)"
   ]
  },
  {
   "cell_type": "code",
   "execution_count": 13,
   "metadata": {},
   "outputs": [],
   "source": [
    "path = '/ifs/gsb/usf_interns/Parser_Project/ParsedDocumentsFolder/10KParsed/Regression_10Ks/'\n",
    "files=os.listdir(path)"
   ]
  },
  {
   "cell_type": "code",
   "execution_count": 14,
   "metadata": {},
   "outputs": [
    {
     "data": {
      "text/plain": [
       "'parsed_10-K_0001193125-14-078778.txt'"
      ]
     },
     "execution_count": 14,
     "metadata": {},
     "output_type": "execute_result"
    }
   ],
   "source": [
    "files[2550]"
   ]
  },
  {
   "cell_type": "code",
   "execution_count": 15,
   "metadata": {},
   "outputs": [],
   "source": [
    "corpus=dict()\n",
    "for file in files:\n",
    "    text = codecs.open(path+file, 'r', encoding='utf-8', errors='ignore').read()\n",
    "    corpus.update({file:text})"
   ]
  },
  {
   "cell_type": "code",
   "execution_count": 16,
   "metadata": {},
   "outputs": [],
   "source": [
    "def tokenizer(text):\n",
    "    \"\"\"\n",
    "    Tokenize text and return a non-unique list of tokenized words\n",
    "    found in the text. Normalize to lowercase, strip punctuation,\n",
    "    remove stop words, drop words of length < 3, strip digits.\n",
    "    \"\"\"\n",
    "    tokenizer = RegexpTokenizer(r'\\w+')\n",
    "    valid_characters = string.printable\n",
    "    text = ''.join(i for i in text if i in valid_characters)\n",
    "    text = text.lower()\n",
    "    text = re.sub('[' + string.punctuation + '0-9\\\\r\\\\t\\\\n\\®]', ' ', text)\n",
    "    tokens = nltk.word_tokenize(text)\n",
    "    tokens = [w for w in tokens if len(w) > 2]  # ignore a, an, to, at, be, ...\n",
    "    goodWords = [w for w in tokens if w not in ENGLISH_STOP_WORDS]\n",
    "    return(goodWords)"
   ]
  },
  {
   "cell_type": "code",
   "execution_count": 17,
   "metadata": {},
   "outputs": [],
   "source": [
    "def compute_tfidf(corpus):\n",
    "    \"\"\"\n",
    "    Create and return a TfidfVectorizer object after training it on\n",
    "    the list of articles pulled from the corpus dictionary. Meaning,\n",
    "    call fit() on the list of document strings, which figures out\n",
    "    all the inverse document frequencies (IDF) for use later by\n",
    "    the transform() function. The corpus argument is a dictionary \n",
    "    mapping file name to xml text.\n",
    "    \"\"\"\n",
    "\n",
    "    tfidf = TfidfVectorizer(input='content',\n",
    "                        analyzer='word',\n",
    "                        tokenizer=tokenizer,\n",
    "                        stop_words='english',\n",
    "                        decode_error = 'ignore')\n",
    "    list_of_articles=[]\n",
    "    for key in corpus:\n",
    "        list_of_articles.append(corpus[key])      \n",
    "    tfidf_matrix=tfidf.fit(list_of_articles)  \n",
    "    return tfidf_matrix "
   ]
  },
  {
   "cell_type": "code",
   "execution_count": 18,
   "metadata": {},
   "outputs": [
    {
     "name": "stderr",
     "output_type": "stream",
     "text": [
      "/home/users/ssingla2/.local/lib/python3.6/site-packages/sklearn/feature_extraction/text.py:507: UserWarning: The parameter 'token_pattern' will not be used since 'tokenizer' is not None'\n",
      "  warnings.warn(\"The parameter 'token_pattern' will not be used\"\n"
     ]
    }
   ],
   "source": [
    "tfidf=compute_tfidf(corpus)"
   ]
  },
  {
   "cell_type": "code",
   "execution_count": 19,
   "metadata": {},
   "outputs": [],
   "source": [
    "def summarize(tfidf, text):\n",
    "    \"\"\"\n",
    "    Given a trained TfidfVectorizer object and some XML text, return\n",
    "    up to n (word,score) pairs in a list. Discard any terms with\n",
    "    scores < 0.09.\n",
    "    \"\"\"\n",
    "    tmatrix=tfidf.transform([text])\n",
    "    retTuple=[]\n",
    "    feature_index=tmatrix.nonzero()[1]\n",
    "    feature_words=tfidf.get_feature_names()\n",
    "    for i in feature_index:\n",
    "        retTuple.append((feature_words[i],tmatrix[0,i]))\n",
    "\n",
    "    def Sort_Tuple(tup):  \n",
    "        return(sorted(tup, key = lambda x: x[1],reverse = True))\n",
    "    \n",
    "    sorted_list=Sort_Tuple(retTuple)\n",
    "#     sortedlistn=(sorted_list[:n])\n",
    "#     sortedlistnFinal=[i for i in sortedlistn if i[1] >= 0.09]\n",
    "    return(sorted_list)"
   ]
  },
  {
   "cell_type": "code",
   "execution_count": 20,
   "metadata": {},
   "outputs": [],
   "source": [
    "outputTfidfEachDict={}\n",
    "outputTfidfTotalDict_init={}\n",
    "for key in files:\n",
    "    Text_10K=corpus[key]\n",
    "    tfidf_scores=summarize(tfidf, Text_10K)\n",
    "    dict_10={}\n",
    "    for item in tfidf_scores:\n",
    "        dict_10.update( {item[0] :item[1]} )\n",
    "    uncertainty_dict={}\n",
    "    total_tfidf_unc=0\n",
    "    for word in expanded_init_dict:\n",
    "        if word in dict_10:\n",
    "            uncertainty_dict[word]=dict_10[word]\n",
    "            total_tfidf_unc=total_tfidf_unc+dict_10[word] \n",
    "    outputTfidfEachDict[key] = uncertainty_dict\n",
    "    outputTfidfTotalDict_init[key]= total_tfidf_unc\n",
    "            "
   ]
  },
  {
   "cell_type": "code",
   "execution_count": 21,
   "metadata": {},
   "outputs": [],
   "source": [
    "with open('saved_uncertainty_tfidf_dicts.txt', 'w') as f:\n",
    "    f.write(str(outputTfidfEachDict))"
   ]
  },
  {
   "cell_type": "code",
   "execution_count": 22,
   "metadata": {},
   "outputs": [
    {
     "name": "stdout",
     "output_type": "stream",
     "text": [
      "Stored 'outputTfidfTotalDict_init' (dict)\n"
     ]
    }
   ],
   "source": [
    "%store outputTfidfTotalDict_init"
   ]
  },
  {
   "cell_type": "code",
   "execution_count": null,
   "metadata": {},
   "outputs": [],
   "source": [
    "# outputTfidfTotalDict_init"
   ]
  },
  {
   "cell_type": "code",
   "execution_count": null,
   "metadata": {},
   "outputs": [],
   "source": []
  },
  {
   "cell_type": "code",
   "execution_count": null,
   "metadata": {},
   "outputs": [],
   "source": []
  },
  {
   "cell_type": "markdown",
   "metadata": {},
   "source": [
    "Code for Single file:"
   ]
  },
  {
   "cell_type": "code",
   "execution_count": null,
   "metadata": {},
   "outputs": [],
   "source": [
    "key='parsed_10-K_0000006201-13-000023.txt'\n",
    "Text_10K=corpus[key]\n",
    "tfidf_scores=summarize(tfidf, Text_10K)\n",
    "dict_10={}\n",
    "for item in tfidf_scores:\n",
    "    dict_10.update( {item[0] :item[1]} )\n",
    "    "
   ]
  },
  {
   "cell_type": "code",
   "execution_count": null,
   "metadata": {},
   "outputs": [],
   "source": [
    "uncertainty_dict={}\n",
    "total_tfidf_unc=0\n",
    "for word in uncertainty_list:\n",
    "    if word in dict_10:\n",
    "        uncertainty_dict[word]=dict_10[word]\n",
    "        total_tfidf_unc=total_tfidf_unc+dict_10[word]"
   ]
  },
  {
   "cell_type": "code",
   "execution_count": null,
   "metadata": {},
   "outputs": [],
   "source": [
    "total_tfidf_unc"
   ]
  },
  {
   "cell_type": "code",
   "execution_count": null,
   "metadata": {},
   "outputs": [],
   "source": [
    "uncertainty_dict"
   ]
  },
  {
   "cell_type": "code",
   "execution_count": null,
   "metadata": {},
   "outputs": [],
   "source": []
  }
 ],
 "metadata": {
  "kernelspec": {
   "display_name": "Python 3",
   "language": "python",
   "name": "python3"
  },
  "language_info": {
   "codemirror_mode": {
    "name": "ipython",
    "version": 3
   },
   "file_extension": ".py",
   "mimetype": "text/x-python",
   "name": "python",
   "nbconvert_exporter": "python",
   "pygments_lexer": "ipython3",
   "version": "3.6.9"
  }
 },
 "nbformat": 4,
 "nbformat_minor": 4
}
