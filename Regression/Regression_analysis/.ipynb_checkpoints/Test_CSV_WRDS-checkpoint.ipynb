{
 "cells": [
  {
   "cell_type": "code",
   "execution_count": null,
   "metadata": {},
   "outputs": [
    {
     "name": "stdout",
     "output_type": "stream",
     "text": [
      "is in file\n"
     ]
    }
   ],
   "source": [
    "import csv\n",
    "\n",
    "username = '0000006201-13-000023'\n",
    "\n",
    "with open('/ifs/gsb/usf_interns/word_counts.csv', 'rt') as f:\n",
    "     reader = csv.reader(f, delimiter=',') # good point by @paco\n",
    "     for row in reader:\n",
    "          for field in row:\n",
    "              if field == 'accession':\n",
    "                  print(\"is in file\")"
   ]
  },
  {
   "cell_type": "code",
   "execution_count": null,
   "metadata": {},
   "outputs": [],
   "source": [
    "# !pip3 install PTable"
   ]
  },
  {
   "cell_type": "code",
   "execution_count": null,
   "metadata": {},
   "outputs": [],
   "source": [
    "local_dict={'alteration': 1,\n",
    " 'anticipate': 8,\n",
    " 'anticipated': 8,\n",
    " 'anticipates': 2,\n",
    " 'appears': 1,\n",
    " 'approximate': 10,\n",
    " 'approximately': 136,\n",
    " 'approximates': 1,\n",
    " 'assume': 7,\n",
    " 'assumed': 11,\n",
    " 'assumes': 1,\n",
    " 'assuming': 2,\n",
    " 'assumption': 15,\n",
    " 'assumptions': 18,\n",
    " 'believe': 16,\n",
    " 'believes': 20,\n",
    " 'believing': 1,\n",
    " 'conditional': 2,\n",
    " 'contingencies': 9,\n",
    " 'contingent': 5,\n",
    " 'depend': 3,\n",
    " 'dependence': 1,\n",
    " 'dependent': 13,\n",
    " 'depending': 2,\n",
    " 'depends': 2,\n",
    " 'differ': 6,\n",
    " 'differed': 1,\n",
    " 'differing': 1,\n",
    " 'doubt': 2,\n",
    " 'exposure': 12,\n",
    " 'fluctuate': 1,\n",
    " 'fluctuated': 1,\n",
    " 'fluctuations': 6,\n",
    " 'indefinite': 7,\n",
    " 'indefinitely': 1,\n",
    " 'instability': 3,\n",
    " 'intangible': 14,\n",
    " 'intangibles': 1,\n",
    " 'pending': 11,\n",
    " 'possibility': 1,\n",
    " 'possible': 8,\n",
    " 'predict': 15,\n",
    " 'predicted': 2,\n",
    " 'preliminary': 3,\n",
    " 'probability': 1,\n",
    " 'probable': 6,\n",
    " 'reconsider': 1,\n",
    " 'revised': 3,\n",
    " 'risk': 53,\n",
    " 'risks': 31,\n",
    " 'roughly': 1,\n",
    " 'speculative': 2,\n",
    " 'tentative': 16,\n",
    " 'uncertain': 7,\n",
    " 'uncertainties': 7,\n",
    " 'uncertainty': 12,\n",
    " 'unexpected': 3,\n",
    " 'unknown': 5,\n",
    " 'unobservable': 4,\n",
    " 'unspecified': 3,\n",
    " 'unusual': 2,\n",
    " 'unusually': 1,\n",
    " 'variable': 9,\n",
    " 'variables': 1,\n",
    " 'vary': 5,\n",
    " 'varying': 1,\n",
    " 'volatile': 8,\n",
    " 'volatilities': 3}"
   ]
  },
  {
   "cell_type": "code",
   "execution_count": null,
   "metadata": {},
   "outputs": [],
   "source": [
    "from prettytable import PrettyTable\n",
    "    \n",
    "x = PrettyTable()\n",
    "\n",
    "x.field_names = [\"Word\", \"Local count\", \"WRDS count\", \"Difference\"]\n",
    "\n"
   ]
  },
  {
   "cell_type": "code",
   "execution_count": null,
   "metadata": {},
   "outputs": [],
   "source": [
    "for key in local_dict:\n",
    "    print(key.upper())\n",
    "    with open('/ifs/gsb/usf_interns/temp.txt', 'rt') as f:\n",
    "        data = f.readlines()\n",
    "        for line in data:\n",
    "            if line.__contains__(\",\"+key.upper()+\",\"):\n",
    "                x.add_row([key, local_dict[key], line.split(',')[6], (int(line.split(',')[6])-int(local_dict[key]))])\n",
    "                print(\"local_count:\",local_dict[key])\n",
    "                print(line.split(',')[6])\n",
    "                print(\"\")"
   ]
  },
  {
   "cell_type": "code",
   "execution_count": null,
   "metadata": {},
   "outputs": [],
   "source": [
    "print(x)"
   ]
  },
  {
   "cell_type": "code",
   "execution_count": null,
   "metadata": {},
   "outputs": [],
   "source": []
  },
  {
   "cell_type": "code",
   "execution_count": null,
   "metadata": {},
   "outputs": [],
   "source": []
  }
 ],
 "metadata": {
  "kernelspec": {
   "display_name": "Python 3",
   "language": "python",
   "name": "python3"
  },
  "language_info": {
   "codemirror_mode": {
    "name": "ipython",
    "version": 3
   },
   "file_extension": ".py",
   "mimetype": "text/x-python",
   "name": "python",
   "nbconvert_exporter": "python",
   "pygments_lexer": "ipython3",
   "version": "3.6.9"
  }
 },
 "nbformat": 4,
 "nbformat_minor": 4
}
