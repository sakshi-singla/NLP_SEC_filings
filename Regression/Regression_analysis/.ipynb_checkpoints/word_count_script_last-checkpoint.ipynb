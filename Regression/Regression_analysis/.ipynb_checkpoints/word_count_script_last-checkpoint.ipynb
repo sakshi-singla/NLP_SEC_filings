{
 "cells": [
  {
   "cell_type": "code",
   "execution_count": 1,
   "metadata": {},
   "outputs": [],
   "source": [
    "from collections import Counter\n",
    "import os\n",
    "import torch\n",
    "import numpy as np\n",
    "from nltk.tokenize import RegexpTokenizer\n",
    "import pickle\n",
    "import re\n",
    "from sklearn.feature_extraction.text import ENGLISH_STOP_WORDS\n",
    "import string\n",
    "import nltk\n",
    "from nltk.stem.porter import *\n",
    "import codecs"
   ]
  },
  {
   "cell_type": "code",
   "execution_count": 2,
   "metadata": {},
   "outputs": [],
   "source": [
    "import itertools"
   ]
  },
  {
   "cell_type": "code",
   "execution_count": 3,
   "metadata": {},
   "outputs": [],
   "source": [
    "filesFolder='/ifs/gsb/usf_interns/Parser_Project/ParsedDocumentsFolder/10KParsed/Regression_10Ks/'"
   ]
  },
  {
   "cell_type": "code",
   "execution_count": 4,
   "metadata": {},
   "outputs": [],
   "source": [
    "files = os.listdir(filesFolder)"
   ]
  },
  {
   "cell_type": "code",
   "execution_count": 5,
   "metadata": {},
   "outputs": [
    {
     "data": {
      "text/plain": [
       "2551"
      ]
     },
     "execution_count": 5,
     "metadata": {},
     "output_type": "execute_result"
    }
   ],
   "source": [
    "len(files)"
   ]
  },
  {
   "cell_type": "code",
   "execution_count": 6,
   "metadata": {},
   "outputs": [],
   "source": [
    "file = open(\"expanded_model_20_words.txt\", \"r+\")\n",
    "uncertainty_str = file.read()\n",
    "import ast \n",
    "dictionary_orig_model_file = ast.literal_eval(uncertainty_str)"
   ]
  },
  {
   "cell_type": "code",
   "execution_count": 7,
   "metadata": {},
   "outputs": [],
   "source": [
    "def get_keys_and_values(dictionary):\n",
    "    key_list=list(dictionary.keys())\n",
    "    value_list=list(itertools.chain.from_iterable(dictionary.values()))\n",
    "    word_list=list(set(key_list+value_list))\n",
    "    return word_list"
   ]
  },
  {
   "cell_type": "code",
   "execution_count": 8,
   "metadata": {},
   "outputs": [],
   "source": [
    "expanded_last_dict=get_keys_and_values(dictionary_orig_model_file['/ifs/gsb/usf_interns/Saved_models_CBOW_GPU/models/model_33'])"
   ]
  },
  {
   "cell_type": "code",
   "execution_count": 9,
   "metadata": {},
   "outputs": [
    {
     "data": {
      "text/plain": [
       "3263"
      ]
     },
     "execution_count": 9,
     "metadata": {},
     "output_type": "execute_result"
    }
   ],
   "source": [
    "len(expanded_last_dict)"
   ]
  },
  {
   "cell_type": "code",
   "execution_count": 10,
   "metadata": {},
   "outputs": [],
   "source": [
    "# dictionary_orig_glove_file"
   ]
  },
  {
   "cell_type": "code",
   "execution_count": 11,
   "metadata": {},
   "outputs": [],
   "source": [
    "def read_data(file_path):\n",
    "\n",
    "    tokenizer = RegexpTokenizer(r'\\w+')\n",
    "    text = codecs.open(file_path, 'r', encoding='utf-8', errors='ignore').read()\n",
    "    valid_characters = string.printable\n",
    "    text = ''.join(i for i in text if i in valid_characters)\n",
    "    text = text.lower()\n",
    "    text = re.sub('[' + string.punctuation + '0-9\\\\r\\\\t\\\\n\\®]', ' ', text)\n",
    "    tokens = nltk.word_tokenize(text)\n",
    "    tokens = [w for w in tokens if len(w) > 2]  # ignore a, an, to, at, be, ...\n",
    "    goodWords = [w for w in tokens if w not in ENGLISH_STOP_WORDS]\n",
    "    return (goodWords)\n",
    "\n",
    "\n",
    "def get_whole_text_as_List(filesFolder):\n",
    "    file_unc_count={}\n",
    "    \n",
    "    fnames = os.listdir(filesFolder)\n",
    "    complete_test_sentence = []\n",
    "    i=0\n",
    "    for file in fnames:\n",
    "        i=i+1\n",
    "        if i%100==0:\n",
    "            print(\"tokenizing file no.:\",i)\n",
    "        test_sentence = read_data(filesFolder + file)\n",
    "        file_unc_count[file]=dict(Counter(test_sentence))\n",
    "        \n",
    "    return file_unc_count"
   ]
  },
  {
   "cell_type": "code",
   "execution_count": 12,
   "metadata": {},
   "outputs": [
    {
     "name": "stdout",
     "output_type": "stream",
     "text": [
      "tokenizing file no.: 100\n",
      "tokenizing file no.: 200\n",
      "tokenizing file no.: 300\n",
      "tokenizing file no.: 400\n",
      "tokenizing file no.: 500\n",
      "tokenizing file no.: 600\n",
      "tokenizing file no.: 700\n",
      "tokenizing file no.: 800\n",
      "tokenizing file no.: 900\n",
      "tokenizing file no.: 1000\n",
      "tokenizing file no.: 1100\n",
      "tokenizing file no.: 1500\n",
      "tokenizing file no.: 1600\n",
      "tokenizing file no.: 1700\n",
      "tokenizing file no.: 1800\n",
      "tokenizing file no.: 1900\n",
      "tokenizing file no.: 2000\n",
      "tokenizing file no.: 2100\n",
      "tokenizing file no.: 2200\n",
      "tokenizing file no.: 2300\n",
      "tokenizing file no.: 2400\n",
      "tokenizing file no.: 2500\n"
     ]
    }
   ],
   "source": [
    "wordList = get_whole_text_as_List(filesFolder)"
   ]
  },
  {
   "cell_type": "code",
   "execution_count": 13,
   "metadata": {},
   "outputs": [],
   "source": [
    "# wordList"
   ]
  },
  {
   "cell_type": "code",
   "execution_count": 17,
   "metadata": {},
   "outputs": [],
   "source": [
    "count_each_word_per_file = {}\n",
    "total_word_per_file_last = {}\n",
    "for file in files:\n",
    "    uncertainty_dict_file = {}\n",
    "    total_word_count=0\n",
    "    for word in expanded_last_dict:\n",
    "        if word in wordList[file]:\n",
    "            uncertainty_dict_file[word]=wordList[file][word]\n",
    "            total_word_count=total_word_count+int(wordList[file][word])\n",
    "    count_each_word_per_file[file] = uncertainty_dict_file\n",
    "    total_word_per_file_last[file] = total_word_count"
   ]
  },
  {
   "cell_type": "code",
   "execution_count": 18,
   "metadata": {},
   "outputs": [],
   "source": [
    "with open('saved_uncertainty_counts.txt', 'w') as f:\n",
    "    f.write(str(count_each_word_per_file))"
   ]
  },
  {
   "cell_type": "code",
   "execution_count": 19,
   "metadata": {},
   "outputs": [
    {
     "name": "stdout",
     "output_type": "stream",
     "text": [
      "Stored 'total_word_per_file_last' (dict)\n"
     ]
    }
   ],
   "source": [
    "%store total_word_per_file_last"
   ]
  },
  {
   "cell_type": "code",
   "execution_count": 21,
   "metadata": {},
   "outputs": [],
   "source": [
    "# total_word_per_file_last"
   ]
  },
  {
   "cell_type": "code",
   "execution_count": 15,
   "metadata": {},
   "outputs": [],
   "source": [
    "# count_each_word_per_file"
   ]
  },
  {
   "cell_type": "code",
   "execution_count": null,
   "metadata": {},
   "outputs": [],
   "source": []
  },
  {
   "cell_type": "code",
   "execution_count": null,
   "metadata": {},
   "outputs": [],
   "source": []
  },
  {
   "cell_type": "code",
   "execution_count": null,
   "metadata": {},
   "outputs": [],
   "source": []
  }
 ],
 "metadata": {
  "kernelspec": {
   "display_name": "Python 3",
   "language": "python",
   "name": "python3"
  },
  "language_info": {
   "codemirror_mode": {
    "name": "ipython",
    "version": 3
   },
   "file_extension": ".py",
   "mimetype": "text/x-python",
   "name": "python",
   "nbconvert_exporter": "python",
   "pygments_lexer": "ipython3",
   "version": "3.6.9"
  }
 },
 "nbformat": 4,
 "nbformat_minor": 4
}
