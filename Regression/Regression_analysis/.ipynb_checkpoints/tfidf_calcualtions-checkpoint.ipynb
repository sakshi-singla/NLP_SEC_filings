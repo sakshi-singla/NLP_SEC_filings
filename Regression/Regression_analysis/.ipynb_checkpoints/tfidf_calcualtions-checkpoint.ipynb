{
 "cells": [
  {
   "cell_type": "code",
   "execution_count": 11,
   "metadata": {},
   "outputs": [],
   "source": [
    "import codecs"
   ]
  },
  {
   "cell_type": "code",
   "execution_count": 4,
   "metadata": {},
   "outputs": [],
   "source": [
    "import sys\n",
    "import nltk\n",
    "from nltk.stem.porter import *\n",
    "from sklearn.feature_extraction import stop_words\n",
    "import xml.etree.cElementTree as ET\n",
    "from collections import Counter\n",
    "import string\n",
    "from sklearn.feature_extraction.text import TfidfVectorizer\n",
    "import zipfile\n",
    "import os\n",
    "import re\n",
    "from sklearn.feature_extraction.text import ENGLISH_STOP_WORDS\n",
    "# from wordcloud import WordCloud\n",
    "PARTIALS = False"
   ]
  },
  {
   "cell_type": "code",
   "execution_count": 23,
   "metadata": {},
   "outputs": [
    {
     "data": {
      "text/plain": [
       "297"
      ]
     },
     "execution_count": 23,
     "metadata": {},
     "output_type": "execute_result"
    }
   ],
   "source": [
    "file = open(\"../uncertainty_words.txt\", \"r+\")\n",
    "uncertainty_str = file.read()\n",
    "uncertainty_list = uncertainty_str.lower().split(\",\")\n",
    "len(uncertainty_list)"
   ]
  },
  {
   "cell_type": "code",
   "execution_count": 5,
   "metadata": {},
   "outputs": [],
   "source": [
    "path = '/ifs/gsb/usf_interns/Parser_Project/ParsedDocumentsFolder/10KParsed/Sample100_10Ks/'\n",
    "files=os.listdir(path)"
   ]
  },
  {
   "cell_type": "code",
   "execution_count": 20,
   "metadata": {},
   "outputs": [
    {
     "data": {
      "text/plain": [
       "'parsed_10-K_0000006201-13-000023.txt'"
      ]
     },
     "execution_count": 20,
     "metadata": {},
     "output_type": "execute_result"
    }
   ],
   "source": [
    "files[0]"
   ]
  },
  {
   "cell_type": "code",
   "execution_count": 12,
   "metadata": {},
   "outputs": [],
   "source": [
    "corpus=dict()\n",
    "for file in files:\n",
    "    text = codecs.open(path+file, 'r', encoding='utf-8', errors='ignore').read()\n",
    "    corpus.update({file:text})"
   ]
  },
  {
   "cell_type": "code",
   "execution_count": 16,
   "metadata": {},
   "outputs": [],
   "source": [
    "def tokenizer(text):\n",
    "    \"\"\"\n",
    "    Tokenize text and return a non-unique list of tokenized words\n",
    "    found in the text. Normalize to lowercase, strip punctuation,\n",
    "    remove stop words, drop words of length < 3, strip digits.\n",
    "    \"\"\"\n",
    "#     tokenizer = RegexpTokenizer(r'\\w+')\n",
    "    valid_characters = string.printable\n",
    "    text = ''.join(i for i in text if i in valid_characters)\n",
    "    text = text.lower()\n",
    "    text = re.sub('[' + string.punctuation + '0-9\\\\r\\\\t\\\\n\\®]', ' ', text)\n",
    "    tokens = nltk.word_tokenize(text)\n",
    "    tokens = [w for w in tokens if len(w) > 2]  # ignore a, an, to, at, be, ...\n",
    "    goodWords = [w for w in tokens if w not in ENGLISH_STOP_WORDS]\n",
    "    return(goodWords)"
   ]
  },
  {
   "cell_type": "code",
   "execution_count": 17,
   "metadata": {},
   "outputs": [],
   "source": [
    "def compute_tfidf(corpus):\n",
    "    \"\"\"\n",
    "    Create and return a TfidfVectorizer object after training it on\n",
    "    the list of articles pulled from the corpus dictionary. Meaning,\n",
    "    call fit() on the list of document strings, which figures out\n",
    "    all the inverse document frequencies (IDF) for use later by\n",
    "    the transform() function. The corpus argument is a dictionary \n",
    "    mapping file name to xml text.\n",
    "    \"\"\"\n",
    "\n",
    "    tfidf = TfidfVectorizer(input='content',\n",
    "                        analyzer='word',\n",
    "                        tokenizer=tokenizer,\n",
    "                        stop_words='english',\n",
    "                        decode_error = 'ignore')\n",
    "    list_of_articles=[]\n",
    "    for key in corpus:\n",
    "        list_of_articles.append(corpus[key])      \n",
    "    tfidf_matrix=tfidf.fit(list_of_articles)  \n",
    "    return tfidf_matrix "
   ]
  },
  {
   "cell_type": "code",
   "execution_count": 18,
   "metadata": {},
   "outputs": [],
   "source": [
    "tfidf=compute_tfidf(corpus)"
   ]
  },
  {
   "cell_type": "code",
   "execution_count": 36,
   "metadata": {},
   "outputs": [],
   "source": [
    "def summarize(tfidf, text):\n",
    "    \"\"\"\n",
    "    Given a trained TfidfVectorizer object and some XML text, return\n",
    "    up to n (word,score) pairs in a list. Discard any terms with\n",
    "    scores < 0.09.\n",
    "    \"\"\"\n",
    "    tmatrix=tfidf.transform([text])\n",
    "    retTuple=[]\n",
    "    feature_index=tmatrix.nonzero()[1]\n",
    "    feature_words=tfidf.get_feature_names()\n",
    "    for i in feature_index:\n",
    "        retTuple.append((feature_words[i],tmatrix[0,i]))\n",
    "\n",
    "    def Sort_Tuple(tup):  \n",
    "        return(sorted(tup, key = lambda x: x[1],reverse = True))\n",
    "    \n",
    "    sorted_list=Sort_Tuple(retTuple)\n",
    "#     sortedlistn=(sorted_list[:n])\n",
    "#     sortedlistnFinal=[i for i in sortedlistn if i[1] >= 0.09]\n",
    "    return(sorted_list)"
   ]
  },
  {
   "cell_type": "code",
   "execution_count": 37,
   "metadata": {},
   "outputs": [],
   "source": [
    "key='parsed_10-K_0000006201-13-000023.txt'\n",
    "Text_10K=corpus[key]\n",
    "tfidf_scores=summarize(tfidf, Text_10K)\n",
    "dict_10={}\n",
    "for item in tfidf_scores:\n",
    "    dict_10.update( {item[0] :item[1]} )"
   ]
  },
  {
   "cell_type": "code",
   "execution_count": 38,
   "metadata": {},
   "outputs": [],
   "source": [
    "uncertainty_dict={}\n",
    "total_tfidf_unc=0\n",
    "for word in uncertainty_list:\n",
    "    if word in dict_10:\n",
    "        uncertainty_dict[word]=dict_10[word]\n",
    "        total_tfidf_unc=total_tfidf_unc+dict_10[word]"
   ]
  },
  {
   "cell_type": "code",
   "execution_count": 39,
   "metadata": {},
   "outputs": [
    {
     "data": {
      "text/plain": [
       "0.36245589347105645"
      ]
     },
     "execution_count": 39,
     "metadata": {},
     "output_type": "execute_result"
    }
   ],
   "source": [
    "total_tfidf_unc"
   ]
  },
  {
   "cell_type": "code",
   "execution_count": 32,
   "metadata": {},
   "outputs": [
    {
     "data": {
      "text/plain": [
       "{'alteration': 0.0016512985505206846,\n",
       " 'anticipate': 0.004333542192258778,\n",
       " 'anticipated': 0.004290298370609943,\n",
       " 'anticipates': 0.0014943017550073981,\n",
       " 'appears': 0.0008775144827296678,\n",
       " 'approximate': 0.007077602953553197,\n",
       " 'approximately': 0.07007148088471173,\n",
       " 'approximates': 0.0008669877398561384,\n",
       " 'assume': 0.005656672055307696,\n",
       " 'assumed': 0.005667546248028154,\n",
       " 'assumes': 0.0006573577625337148,\n",
       " 'assuming': 0.0015447327919985514,\n",
       " 'assumption': 0.009860366438005723,\n",
       " 'assumptions': 0.009274166587682436,\n",
       " 'believe': 0.008243703633495497,\n",
       " 'believes': 0.011165378759214944,\n",
       " 'believing': 0.0024560204326588048,\n",
       " 'conditional': 0.002171190875824289,\n",
       " 'contingencies': 0.005794590394820259,\n",
       " 'contingent': 0.0028195936806502254,\n",
       " 'depend': 0.0020137427852695822,\n",
       " 'dependence': 0.0010697210310364519,\n",
       " 'dependent': 0.007257496193489713,\n",
       " 'depending': 0.00105129711684156,\n",
       " 'depends': 0.0013424951901797213,\n",
       " 'differ': 0.0030913888625608114,\n",
       " 'differed': 0.0017039789998925892,\n",
       " 'differing': 0.0008080960079010995,\n",
       " 'doubt': 0.00283259176288408,\n",
       " 'exposure': 0.006182777725121623,\n",
       " 'fluctuate': 0.000605362716720786,\n",
       " 'fluctuated': 0.0017039789998925892,\n",
       " 'fluctuations': 0.003417798628913774,\n",
       " 'indefinite': 0.004954322067487238,\n",
       " 'indefinitely': 0.0008882676244379354,\n",
       " 'instability': 0.0023431868969189945,\n",
       " 'intangible': 0.007974863467465473,\n",
       " 'intangibles': 0.0007231461806308636,\n",
       " 'pending': 0.006203106097430496,\n",
       " 'possibility': 0.0007638191482423394,\n",
       " 'possible': 0.00420518846736624,\n",
       " 'predict': 0.008897504187234095,\n",
       " 'predicted': 0.0019675911803066237,\n",
       " 'preliminary': 0.0026325434481890035,\n",
       " 'probability': 0.0006855343332576219,\n",
       " 'probable': 0.0036321763003247156,\n",
       " 'reconsider': 0.0021094455822532163,\n",
       " 'revised': 0.0017262406111104276,\n",
       " 'risk': 0.027035470043281027,\n",
       " 'risks': 0.015972175789897528,\n",
       " 'roughly': 0.0024560204326588048,\n",
       " 'speculative': 0.0019942595243533034,\n",
       " 'tentative': 0.026420776808330954,\n",
       " 'uncertain': 0.0037540110742836992,\n",
       " 'uncertainties': 0.003642890226153851,\n",
       " 'uncertainty': 0.0065003132883881655,\n",
       " 'unexpected': 0.0021930611632352505,\n",
       " 'unknown': 0.005271675728804539,\n",
       " 'unobservable': 0.0026022196470842536,\n",
       " 'unspecified': 0.00424888764432612,\n",
       " 'unusual': 0.0021394420620729038,\n",
       " 'unusually': 0.0012803285293309851,\n",
       " 'variable': 0.00528460945667828,\n",
       " 'variables': 0.0007723663959992757,\n",
       " 'vary': 0.002791344689803736,\n",
       " 'varying': 0.0006573577625337148,\n",
       " 'volatile': 0.005601930634676278,\n",
       " 'volatilities': 0.003074744366336301}"
      ]
     },
     "execution_count": 32,
     "metadata": {},
     "output_type": "execute_result"
    }
   ],
   "source": [
    "uncertainty_dict"
   ]
  },
  {
   "cell_type": "code",
   "execution_count": null,
   "metadata": {},
   "outputs": [],
   "source": []
  }
 ],
 "metadata": {
  "kernelspec": {
   "display_name": "Python 3",
   "language": "python",
   "name": "python3"
  },
  "language_info": {
   "codemirror_mode": {
    "name": "ipython",
    "version": 3
   },
   "file_extension": ".py",
   "mimetype": "text/x-python",
   "name": "python",
   "nbconvert_exporter": "python",
   "pygments_lexer": "ipython3",
   "version": "3.6.9"
  }
 },
 "nbformat": 4,
 "nbformat_minor": 4
}
