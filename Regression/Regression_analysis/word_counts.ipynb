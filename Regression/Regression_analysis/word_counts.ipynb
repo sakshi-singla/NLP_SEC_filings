{
 "cells": [
  {
   "cell_type": "code",
   "execution_count": 2,
   "metadata": {},
   "outputs": [],
   "source": [
    "from collections import Counter"
   ]
  },
  {
   "cell_type": "code",
   "execution_count": 3,
   "metadata": {},
   "outputs": [],
   "source": [
    "import os\n",
    "import torch\n",
    "import numpy as np\n",
    "from nltk.tokenize import RegexpTokenizer\n",
    "import pickle\n",
    "import re\n",
    "from sklearn.feature_extraction.text import ENGLISH_STOP_WORDS\n",
    "import string\n",
    "import nltk\n",
    "from nltk.stem.porter import *\n",
    "import codecs"
   ]
  },
  {
   "cell_type": "code",
   "execution_count": 4,
   "metadata": {},
   "outputs": [],
   "source": [
    "filesFolder='/ifs/gsb/usf_interns/Parser_Project/ParsedDocumentsFolder/10KParsed/Sample100_10Ks/'"
   ]
  },
  {
   "cell_type": "code",
   "execution_count": 5,
   "metadata": {},
   "outputs": [],
   "source": [
    "import os\n",
    "files=os.listdir(filesFolder)"
   ]
  },
  {
   "cell_type": "code",
   "execution_count": 6,
   "metadata": {},
   "outputs": [],
   "source": [
    "# files"
   ]
  },
  {
   "cell_type": "code",
   "execution_count": 7,
   "metadata": {},
   "outputs": [
    {
     "data": {
      "text/plain": [
       "297"
      ]
     },
     "execution_count": 7,
     "metadata": {},
     "output_type": "execute_result"
    }
   ],
   "source": [
    "file = open(\"../uncertainty_words.txt\", \"r+\")\n",
    "uncertainty_str = file.read()\n",
    "uncertainty_list = uncertainty_str.lower().split(\",\")\n",
    "len(uncertainty_list)"
   ]
  },
  {
   "cell_type": "code",
   "execution_count": 21,
   "metadata": {},
   "outputs": [],
   "source": [
    "def read_data(file_path):\n",
    "\n",
    "    tokenizer = RegexpTokenizer(r'\\w+')\n",
    "    text = codecs.open(file_path, 'r', encoding='utf-8', errors='ignore').read()\n",
    "    valid_characters = string.printable\n",
    "    text = ''.join(i for i in text if i in valid_characters)\n",
    "    text = text.lower()\n",
    "    text = re.sub('[' + string.punctuation + '0-9\\\\r\\\\t\\\\n\\®]', ' ', text)\n",
    "    tokens = nltk.word_tokenize(text)\n",
    "    tokens = [w for w in tokens if len(w) > 2]  # ignore a, an, to, at, be, ...\n",
    "    goodWords = [w for w in tokens if w not in ENGLISH_STOP_WORDS]\n",
    "    return (goodWords)\n",
    "\n",
    "\n",
    "def get_whole_text_as_List(filesFolder):\n",
    "    file_unc_count={}\n",
    "    \n",
    "    fnames = os.listdir(filesFolder)\n",
    "    complete_test_sentence = []\n",
    "    i=0\n",
    "    for file in fnames:\n",
    "        i=i+1\n",
    "        if i%10==0:\n",
    "            print(\"tokenizing file no.:\",i)\n",
    "        test_sentence = read_data(filesFolder + file)\n",
    "        file_unc_count[file]=dict(Counter(test_sentence))\n",
    "        \n",
    "    return file_unc_count"
   ]
  },
  {
   "cell_type": "code",
   "execution_count": 9,
   "metadata": {},
   "outputs": [
    {
     "name": "stdout",
     "output_type": "stream",
     "text": [
      "tokenizing file no.: 10\n",
      "tokenizing file no.: 20\n",
      "tokenizing file no.: 30\n",
      "tokenizing file no.: 40\n",
      "tokenizing file no.: 50\n",
      "tokenizing file no.: 60\n",
      "tokenizing file no.: 70\n",
      "tokenizing file no.: 80\n",
      "tokenizing file no.: 90\n"
     ]
    }
   ],
   "source": [
    "wordList = get_whole_text_as_List(filesFolder)"
   ]
  },
  {
   "cell_type": "code",
   "execution_count": 10,
   "metadata": {},
   "outputs": [],
   "source": [
    "uncertainty_dict_file={}\n",
    "for i in uncertainty_list:\n",
    "    if i in wordList[files[0]]:\n",
    "        uncertainty_dict_file[i]=wordList[files[0]][i]"
   ]
  },
  {
   "cell_type": "code",
   "execution_count": 11,
   "metadata": {},
   "outputs": [
    {
     "data": {
      "text/plain": [
       "{'alteration': 1,\n",
       " 'anticipate': 8,\n",
       " 'anticipated': 8,\n",
       " 'anticipates': 2,\n",
       " 'appears': 1,\n",
       " 'approximate': 10,\n",
       " 'approximately': 136,\n",
       " 'approximates': 1,\n",
       " 'assume': 7,\n",
       " 'assumed': 11,\n",
       " 'assumes': 1,\n",
       " 'assuming': 2,\n",
       " 'assumption': 15,\n",
       " 'assumptions': 18,\n",
       " 'believe': 16,\n",
       " 'believes': 20,\n",
       " 'believing': 1,\n",
       " 'conditional': 2,\n",
       " 'contingencies': 9,\n",
       " 'contingent': 5,\n",
       " 'depend': 3,\n",
       " 'dependence': 1,\n",
       " 'dependent': 13,\n",
       " 'depending': 2,\n",
       " 'depends': 2,\n",
       " 'differ': 6,\n",
       " 'differed': 1,\n",
       " 'differing': 1,\n",
       " 'doubt': 2,\n",
       " 'exposure': 12,\n",
       " 'fluctuate': 1,\n",
       " 'fluctuated': 1,\n",
       " 'fluctuations': 6,\n",
       " 'indefinite': 7,\n",
       " 'indefinitely': 1,\n",
       " 'instability': 3,\n",
       " 'intangible': 14,\n",
       " 'intangibles': 1,\n",
       " 'pending': 11,\n",
       " 'possibility': 1,\n",
       " 'possible': 8,\n",
       " 'predict': 15,\n",
       " 'predicted': 2,\n",
       " 'preliminary': 3,\n",
       " 'probability': 1,\n",
       " 'probable': 6,\n",
       " 'reconsider': 1,\n",
       " 'revised': 3,\n",
       " 'risk': 53,\n",
       " 'risks': 31,\n",
       " 'roughly': 1,\n",
       " 'speculative': 2,\n",
       " 'tentative': 16,\n",
       " 'uncertain': 7,\n",
       " 'uncertainties': 7,\n",
       " 'uncertainty': 12,\n",
       " 'unexpected': 3,\n",
       " 'unknown': 5,\n",
       " 'unobservable': 4,\n",
       " 'unspecified': 3,\n",
       " 'unusual': 2,\n",
       " 'unusually': 1,\n",
       " 'variable': 9,\n",
       " 'variables': 1,\n",
       " 'vary': 5,\n",
       " 'varying': 1,\n",
       " 'volatile': 8,\n",
       " 'volatilities': 3}"
      ]
     },
     "execution_count": 11,
     "metadata": {},
     "output_type": "execute_result"
    }
   ],
   "source": [
    "uncertainty_dict_file"
   ]
  },
  {
   "cell_type": "code",
   "execution_count": 41,
   "metadata": {},
   "outputs": [],
   "source": [
    "# [(i,wordList[files[0]][i]) for i in uncertainty_list if i in wordList[files[0]]]\n",
    "# for key in uncertainty_list: \n",
    "#     print(key, \":\", wordList[files[0]].get(key, 0))"
   ]
  },
  {
   "cell_type": "code",
   "execution_count": null,
   "metadata": {},
   "outputs": [],
   "source": []
  }
 ],
 "metadata": {
  "kernelspec": {
   "display_name": "Python 3",
   "language": "python",
   "name": "python3"
  },
  "language_info": {
   "codemirror_mode": {
    "name": "ipython",
    "version": 3
   },
   "file_extension": ".py",
   "mimetype": "text/x-python",
   "name": "python",
   "nbconvert_exporter": "python",
   "pygments_lexer": "ipython3",
   "version": "3.6.9"
  }
 },
 "nbformat": 4,
 "nbformat_minor": 4
}
