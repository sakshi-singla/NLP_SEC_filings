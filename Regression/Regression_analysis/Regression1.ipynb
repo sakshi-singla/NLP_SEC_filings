{
 "cells": [
  {
   "cell_type": "code",
   "execution_count": 78,
   "metadata": {},
   "outputs": [],
   "source": [
    "import os\n",
    "import shutil\n",
    "from sklearn.model_selection import train_test_split"
   ]
  },
  {
   "cell_type": "code",
   "execution_count": 74,
   "metadata": {},
   "outputs": [],
   "source": [
    "# ! pip install rfpimp"
   ]
  },
  {
   "cell_type": "code",
   "execution_count": 93,
   "metadata": {},
   "outputs": [],
   "source": [
    "from rfpimp import *\n",
    "from sklearn.metrics import r2_score"
   ]
  },
  {
   "cell_type": "code",
   "execution_count": 3,
   "metadata": {},
   "outputs": [],
   "source": [
    "path = '/ifs/gsb/usf_interns/Parser_Project/ParsedDocumentsFolder/10KParsed/'\n",
    "files=os.listdir(path)"
   ]
  },
  {
   "cell_type": "code",
   "execution_count": 4,
   "metadata": {},
   "outputs": [
    {
     "data": {
      "text/plain": [
       "'parsed_10-K_0000882835-13-000008.txt'"
      ]
     },
     "execution_count": 4,
     "metadata": {},
     "output_type": "execute_result"
    }
   ],
   "source": [
    "files[0]"
   ]
  },
  {
   "cell_type": "code",
   "execution_count": 5,
   "metadata": {},
   "outputs": [
    {
     "data": {
      "text/plain": [
       "4657"
      ]
     },
     "execution_count": 5,
     "metadata": {},
     "output_type": "execute_result"
    }
   ],
   "source": [
    "len(files)"
   ]
  },
  {
   "cell_type": "code",
   "execution_count": 6,
   "metadata": {},
   "outputs": [],
   "source": [
    "filesAvailable=[]\n",
    "for file in files:\n",
    "    if file.endswith('.txt'):\n",
    "#     print(file)\n",
    "        filesAvailable.append(file.split('_')[2])"
   ]
  },
  {
   "cell_type": "code",
   "execution_count": 7,
   "metadata": {},
   "outputs": [
    {
     "data": {
      "text/plain": [
       "4655"
      ]
     },
     "execution_count": 7,
     "metadata": {},
     "output_type": "execute_result"
    }
   ],
   "source": [
    "len(filesAvailable)"
   ]
  },
  {
   "cell_type": "code",
   "execution_count": 8,
   "metadata": {},
   "outputs": [],
   "source": [
    "import pandas\n",
    "# colnames = ['file','date','year','ff48','rmse_post','alpha','rmse_prior','ret_abn','mkt_cap','btm','nasdaq','unc']\n",
    "data = pandas.read_csv('/ifs/gsb/usf_interns/regression.csv',low_memory=False)"
   ]
  },
  {
   "cell_type": "code",
   "execution_count": 9,
   "metadata": {},
   "outputs": [
    {
     "data": {
      "text/plain": [
       "(76991, 12)"
      ]
     },
     "execution_count": 9,
     "metadata": {},
     "output_type": "execute_result"
    }
   ],
   "source": [
    "data.shape"
   ]
  },
  {
   "cell_type": "code",
   "execution_count": 10,
   "metadata": {},
   "outputs": [
    {
     "data": {
      "text/html": [
       "<div>\n",
       "<style scoped>\n",
       "    .dataframe tbody tr th:only-of-type {\n",
       "        vertical-align: middle;\n",
       "    }\n",
       "\n",
       "    .dataframe tbody tr th {\n",
       "        vertical-align: top;\n",
       "    }\n",
       "\n",
       "    .dataframe thead th {\n",
       "        text-align: right;\n",
       "    }\n",
       "</style>\n",
       "<table border=\"1\" class=\"dataframe\">\n",
       "  <thead>\n",
       "    <tr style=\"text-align: right;\">\n",
       "      <th></th>\n",
       "      <th>file</th>\n",
       "      <th>date</th>\n",
       "      <th>year</th>\n",
       "      <th>ff48</th>\n",
       "      <th>rmse_post</th>\n",
       "      <th>alpha</th>\n",
       "      <th>rmse_prior</th>\n",
       "      <th>ret_abn</th>\n",
       "      <th>mkt_cap</th>\n",
       "      <th>btm</th>\n",
       "      <th>nasdaq</th>\n",
       "      <th>unc</th>\n",
       "    </tr>\n",
       "  </thead>\n",
       "  <tbody>\n",
       "    <tr>\n",
       "      <th>0</th>\n",
       "      <td>0000038777-94-000002.txt</td>\n",
       "      <td>19940106</td>\n",
       "      <td>1994</td>\n",
       "      <td>47</td>\n",
       "      <td>2.550896</td>\n",
       "      <td>0.046058</td>\n",
       "      <td>1.818059</td>\n",
       "      <td>0.044728</td>\n",
       "      <td>8.121498</td>\n",
       "      <td>-1.709906</td>\n",
       "      <td>0</td>\n",
       "      <td>0.002388</td>\n",
       "    </tr>\n",
       "    <tr>\n",
       "      <th>1</th>\n",
       "      <td>0000912057-94-000081.txt</td>\n",
       "      <td>19940112</td>\n",
       "      <td>1994</td>\n",
       "      <td>36</td>\n",
       "      <td>3.668728</td>\n",
       "      <td>0.123651</td>\n",
       "      <td>2.361240</td>\n",
       "      <td>0.055246</td>\n",
       "      <td>6.865900</td>\n",
       "      <td>-1.505460</td>\n",
       "      <td>1</td>\n",
       "      <td>0.001039</td>\n",
       "    </tr>\n",
       "    <tr>\n",
       "      <th>2</th>\n",
       "      <td>0000950124-94-000148.txt</td>\n",
       "      <td>19940118</td>\n",
       "      <td>1994</td>\n",
       "      <td>38</td>\n",
       "      <td>1.404607</td>\n",
       "      <td>0.050069</td>\n",
       "      <td>1.600168</td>\n",
       "      <td>0.022987</td>\n",
       "      <td>4.480014</td>\n",
       "      <td>0.383229</td>\n",
       "      <td>0</td>\n",
       "      <td>0.001815</td>\n",
       "    </tr>\n",
       "    <tr>\n",
       "      <th>3</th>\n",
       "      <td>0000950123-94-000205.txt</td>\n",
       "      <td>19940126</td>\n",
       "      <td>1994</td>\n",
       "      <td>34</td>\n",
       "      <td>1.933443</td>\n",
       "      <td>0.065622</td>\n",
       "      <td>1.744151</td>\n",
       "      <td>0.039155</td>\n",
       "      <td>5.963354</td>\n",
       "      <td>-0.583306</td>\n",
       "      <td>0</td>\n",
       "      <td>0.002942</td>\n",
       "    </tr>\n",
       "    <tr>\n",
       "      <th>4</th>\n",
       "      <td>0000950152-94-000048.txt</td>\n",
       "      <td>19940126</td>\n",
       "      <td>1994</td>\n",
       "      <td>21</td>\n",
       "      <td>1.989374</td>\n",
       "      <td>-0.006767</td>\n",
       "      <td>1.417814</td>\n",
       "      <td>0.024035</td>\n",
       "      <td>5.289432</td>\n",
       "      <td>-0.598769</td>\n",
       "      <td>0</td>\n",
       "      <td>0.004023</td>\n",
       "    </tr>\n",
       "  </tbody>\n",
       "</table>\n",
       "</div>"
      ],
      "text/plain": [
       "                       file      date  year  ff48  rmse_post     alpha  \\\n",
       "0  0000038777-94-000002.txt  19940106  1994    47   2.550896  0.046058   \n",
       "1  0000912057-94-000081.txt  19940112  1994    36   3.668728  0.123651   \n",
       "2  0000950124-94-000148.txt  19940118  1994    38   1.404607  0.050069   \n",
       "3  0000950123-94-000205.txt  19940126  1994    34   1.933443  0.065622   \n",
       "4  0000950152-94-000048.txt  19940126  1994    21   1.989374 -0.006767   \n",
       "\n",
       "   rmse_prior   ret_abn   mkt_cap       btm  nasdaq       unc  \n",
       "0    1.818059  0.044728  8.121498 -1.709906       0  0.002388  \n",
       "1    2.361240  0.055246  6.865900 -1.505460       1  0.001039  \n",
       "2    1.600168  0.022987  4.480014  0.383229       0  0.001815  \n",
       "3    1.744151  0.039155  5.963354 -0.583306       0  0.002942  \n",
       "4    1.417814  0.024035  5.289432 -0.598769       0  0.004023  "
      ]
     },
     "execution_count": 10,
     "metadata": {},
     "output_type": "execute_result"
    }
   ],
   "source": [
    "data.head()"
   ]
  },
  {
   "cell_type": "code",
   "execution_count": 11,
   "metadata": {},
   "outputs": [],
   "source": [
    "fnames = data.file.tolist()"
   ]
  },
  {
   "cell_type": "code",
   "execution_count": 12,
   "metadata": {},
   "outputs": [
    {
     "data": {
      "text/plain": [
       "76991"
      ]
     },
     "execution_count": 12,
     "metadata": {},
     "output_type": "execute_result"
    }
   ],
   "source": [
    "len(fnames)"
   ]
  },
  {
   "cell_type": "code",
   "execution_count": 13,
   "metadata": {},
   "outputs": [],
   "source": [
    "def common_member(a, b): \n",
    "    a_set = set(a) \n",
    "    b_set = set(b) \n",
    "    if (a_set & b_set): \n",
    "        return (a_set & b_set) \n",
    "    else: \n",
    "        print(\"No common elements\")"
   ]
  },
  {
   "cell_type": "code",
   "execution_count": 14,
   "metadata": {},
   "outputs": [],
   "source": [
    "common_files=list(common_member(filesAvailable, fnames))"
   ]
  },
  {
   "cell_type": "code",
   "execution_count": 15,
   "metadata": {},
   "outputs": [
    {
     "data": {
      "text/plain": [
       "2551"
      ]
     },
     "execution_count": 15,
     "metadata": {},
     "output_type": "execute_result"
    }
   ],
   "source": [
    "len(common_files)"
   ]
  },
  {
   "cell_type": "code",
   "execution_count": 16,
   "metadata": {},
   "outputs": [
    {
     "data": {
      "text/plain": [
       "'0000822416-14-000010.txt'"
      ]
     },
     "execution_count": 16,
     "metadata": {},
     "output_type": "execute_result"
    }
   ],
   "source": [
    "common_files[0]"
   ]
  },
  {
   "cell_type": "code",
   "execution_count": 33,
   "metadata": {},
   "outputs": [],
   "source": [
    "for file in common_files:\n",
    "    shutil.copy('/ifs/gsb/usf_interns/Parser_Project/ParsedDocumentsFolder/10KParsed/parsed_10-K_'+file,\n",
    "                '/ifs/gsb/usf_interns/Parser_Project/ParsedDocumentsFolder/10KParsed/Regression_10Ks')"
   ]
  },
  {
   "cell_type": "code",
   "execution_count": 55,
   "metadata": {},
   "outputs": [],
   "source": [
    "regressionData = data[data['file'].isin(common_files)] "
   ]
  },
  {
   "cell_type": "code",
   "execution_count": 56,
   "metadata": {},
   "outputs": [
    {
     "data": {
      "text/html": [
       "<div>\n",
       "<style scoped>\n",
       "    .dataframe tbody tr th:only-of-type {\n",
       "        vertical-align: middle;\n",
       "    }\n",
       "\n",
       "    .dataframe tbody tr th {\n",
       "        vertical-align: top;\n",
       "    }\n",
       "\n",
       "    .dataframe thead th {\n",
       "        text-align: right;\n",
       "    }\n",
       "</style>\n",
       "<table border=\"1\" class=\"dataframe\">\n",
       "  <thead>\n",
       "    <tr style=\"text-align: right;\">\n",
       "      <th></th>\n",
       "      <th>file</th>\n",
       "      <th>date</th>\n",
       "      <th>year</th>\n",
       "      <th>ff48</th>\n",
       "      <th>rmse_post</th>\n",
       "      <th>alpha</th>\n",
       "      <th>rmse_prior</th>\n",
       "      <th>ret_abn</th>\n",
       "      <th>mkt_cap</th>\n",
       "      <th>btm</th>\n",
       "      <th>nasdaq</th>\n",
       "      <th>unc</th>\n",
       "    </tr>\n",
       "  </thead>\n",
       "  <tbody>\n",
       "    <tr>\n",
       "      <th>57880</th>\n",
       "      <td>0000796343-10-000003.txt</td>\n",
       "      <td>20100122</td>\n",
       "      <td>2010</td>\n",
       "      <td>34</td>\n",
       "      <td>1.344314</td>\n",
       "      <td>0.064598</td>\n",
       "      <td>1.878657</td>\n",
       "      <td>0.028867</td>\n",
       "      <td>9.840227</td>\n",
       "      <td>-1.271154</td>\n",
       "      <td>1</td>\n",
       "      <td>0.004315</td>\n",
       "    </tr>\n",
       "    <tr>\n",
       "      <th>57882</th>\n",
       "      <td>0001193125-10-014549.txt</td>\n",
       "      <td>20100128</td>\n",
       "      <td>2010</td>\n",
       "      <td>44</td>\n",
       "      <td>1.043391</td>\n",
       "      <td>0.039671</td>\n",
       "      <td>3.058759</td>\n",
       "      <td>0.011547</td>\n",
       "      <td>8.923082</td>\n",
       "      <td>-0.151860</td>\n",
       "      <td>0</td>\n",
       "      <td>0.004921</td>\n",
       "    </tr>\n",
       "    <tr>\n",
       "      <th>57885</th>\n",
       "      <td>0001193125-10-014973.txt</td>\n",
       "      <td>20100128</td>\n",
       "      <td>2010</td>\n",
       "      <td>2</td>\n",
       "      <td>0.497073</td>\n",
       "      <td>0.044679</td>\n",
       "      <td>1.226339</td>\n",
       "      <td>0.011354</td>\n",
       "      <td>8.400413</td>\n",
       "      <td>-1.235654</td>\n",
       "      <td>0</td>\n",
       "      <td>0.003744</td>\n",
       "    </tr>\n",
       "    <tr>\n",
       "      <th>57887</th>\n",
       "      <td>0001193125-10-016932.txt</td>\n",
       "      <td>20100129</td>\n",
       "      <td>2010</td>\n",
       "      <td>12</td>\n",
       "      <td>0.979935</td>\n",
       "      <td>0.326559</td>\n",
       "      <td>2.599033</td>\n",
       "      <td>0.023549</td>\n",
       "      <td>9.464948</td>\n",
       "      <td>-2.028037</td>\n",
       "      <td>1</td>\n",
       "      <td>0.005534</td>\n",
       "    </tr>\n",
       "    <tr>\n",
       "      <th>57892</th>\n",
       "      <td>0001193125-10-017074.txt</td>\n",
       "      <td>20100129</td>\n",
       "      <td>2010</td>\n",
       "      <td>34</td>\n",
       "      <td>3.381970</td>\n",
       "      <td>0.118845</td>\n",
       "      <td>2.389018</td>\n",
       "      <td>0.002845</td>\n",
       "      <td>8.030131</td>\n",
       "      <td>-1.763918</td>\n",
       "      <td>0</td>\n",
       "      <td>0.003270</td>\n",
       "    </tr>\n",
       "  </tbody>\n",
       "</table>\n",
       "</div>"
      ],
      "text/plain": [
       "                           file      date  year  ff48  rmse_post     alpha  \\\n",
       "57880  0000796343-10-000003.txt  20100122  2010    34   1.344314  0.064598   \n",
       "57882  0001193125-10-014549.txt  20100128  2010    44   1.043391  0.039671   \n",
       "57885  0001193125-10-014973.txt  20100128  2010     2   0.497073  0.044679   \n",
       "57887  0001193125-10-016932.txt  20100129  2010    12   0.979935  0.326559   \n",
       "57892  0001193125-10-017074.txt  20100129  2010    34   3.381970  0.118845   \n",
       "\n",
       "       rmse_prior   ret_abn   mkt_cap       btm  nasdaq       unc  \n",
       "57880    1.878657  0.028867  9.840227 -1.271154       1  0.004315  \n",
       "57882    3.058759  0.011547  8.923082 -0.151860       0  0.004921  \n",
       "57885    1.226339  0.011354  8.400413 -1.235654       0  0.003744  \n",
       "57887    2.599033  0.023549  9.464948 -2.028037       1  0.005534  \n",
       "57892    2.389018  0.002845  8.030131 -1.763918       0  0.003270  "
      ]
     },
     "execution_count": 56,
     "metadata": {},
     "output_type": "execute_result"
    }
   ],
   "source": [
    "regressionData.head()"
   ]
  },
  {
   "cell_type": "code",
   "execution_count": 57,
   "metadata": {},
   "outputs": [],
   "source": [
    "%store -r outputTfidfTotalDict \n",
    "%store -r total_word_per_file"
   ]
  },
  {
   "cell_type": "code",
   "execution_count": 58,
   "metadata": {},
   "outputs": [
    {
     "name": "stderr",
     "output_type": "stream",
     "text": [
      "/opt/jupyter/hub/lib/python3.6/site-packages/ipykernel_launcher.py:1: SettingWithCopyWarning: \n",
      "A value is trying to be set on a copy of a slice from a DataFrame.\n",
      "Try using .loc[row_indexer,col_indexer] = value instead\n",
      "\n",
      "See the caveats in the documentation: http://pandas.pydata.org/pandas-docs/stable/indexing.html#indexing-view-versus-copy\n",
      "  \"\"\"Entry point for launching an IPython kernel.\n"
     ]
    }
   ],
   "source": [
    "regressionData['file']=\"parsed_10-K_\"+regressionData.file"
   ]
  },
  {
   "cell_type": "code",
   "execution_count": 60,
   "metadata": {},
   "outputs": [
    {
     "name": "stderr",
     "output_type": "stream",
     "text": [
      "/usr/local/lib/python3.6/dist-packages/pandas/core/indexing.py:362: SettingWithCopyWarning: \n",
      "A value is trying to be set on a copy of a slice from a DataFrame.\n",
      "Try using .loc[row_indexer,col_indexer] = value instead\n",
      "\n",
      "See the caveats in the documentation: http://pandas.pydata.org/pandas-docs/stable/indexing.html#indexing-view-versus-copy\n",
      "  self.obj[key] = _infer_fill_value(value)\n"
     ]
    }
   ],
   "source": [
    "regressionData['tfidf']=regressionData.file.map(outputTfidfTotalDict)"
   ]
  },
  {
   "cell_type": "code",
   "execution_count": 61,
   "metadata": {},
   "outputs": [
    {
     "name": "stderr",
     "output_type": "stream",
     "text": [
      "/opt/jupyter/hub/lib/python3.6/site-packages/ipykernel_launcher.py:1: SettingWithCopyWarning: \n",
      "A value is trying to be set on a copy of a slice from a DataFrame.\n",
      "Try using .loc[row_indexer,col_indexer] = value instead\n",
      "\n",
      "See the caveats in the documentation: http://pandas.pydata.org/pandas-docs/stable/indexing.html#indexing-view-versus-copy\n",
      "  \"\"\"Entry point for launching an IPython kernel.\n"
     ]
    }
   ],
   "source": [
    "regressionData['unc_word_count']=regressionData.file.map(total_word_per_file)"
   ]
  },
  {
   "cell_type": "code",
   "execution_count": 62,
   "metadata": {},
   "outputs": [
    {
     "data": {
      "text/html": [
       "<div>\n",
       "<style scoped>\n",
       "    .dataframe tbody tr th:only-of-type {\n",
       "        vertical-align: middle;\n",
       "    }\n",
       "\n",
       "    .dataframe tbody tr th {\n",
       "        vertical-align: top;\n",
       "    }\n",
       "\n",
       "    .dataframe thead th {\n",
       "        text-align: right;\n",
       "    }\n",
       "</style>\n",
       "<table border=\"1\" class=\"dataframe\">\n",
       "  <thead>\n",
       "    <tr style=\"text-align: right;\">\n",
       "      <th></th>\n",
       "      <th>file</th>\n",
       "      <th>date</th>\n",
       "      <th>year</th>\n",
       "      <th>ff48</th>\n",
       "      <th>rmse_post</th>\n",
       "      <th>alpha</th>\n",
       "      <th>rmse_prior</th>\n",
       "      <th>ret_abn</th>\n",
       "      <th>mkt_cap</th>\n",
       "      <th>btm</th>\n",
       "      <th>nasdaq</th>\n",
       "      <th>unc</th>\n",
       "      <th>tfidf</th>\n",
       "      <th>unc_word_count</th>\n",
       "    </tr>\n",
       "  </thead>\n",
       "  <tbody>\n",
       "    <tr>\n",
       "      <th>57880</th>\n",
       "      <td>parsed_10-K_0000796343-10-000003.txt</td>\n",
       "      <td>20100122</td>\n",
       "      <td>2010</td>\n",
       "      <td>34</td>\n",
       "      <td>1.344314</td>\n",
       "      <td>0.064598</td>\n",
       "      <td>1.878657</td>\n",
       "      <td>0.028867</td>\n",
       "      <td>9.840227</td>\n",
       "      <td>-1.271154</td>\n",
       "      <td>1</td>\n",
       "      <td>0.004315</td>\n",
       "      <td>0.202695</td>\n",
       "      <td>649</td>\n",
       "    </tr>\n",
       "    <tr>\n",
       "      <th>57882</th>\n",
       "      <td>parsed_10-K_0001193125-10-014549.txt</td>\n",
       "      <td>20100128</td>\n",
       "      <td>2010</td>\n",
       "      <td>44</td>\n",
       "      <td>1.043391</td>\n",
       "      <td>0.039671</td>\n",
       "      <td>3.058759</td>\n",
       "      <td>0.011547</td>\n",
       "      <td>8.923082</td>\n",
       "      <td>-0.151860</td>\n",
       "      <td>0</td>\n",
       "      <td>0.004921</td>\n",
       "      <td>0.348415</td>\n",
       "      <td>841</td>\n",
       "    </tr>\n",
       "    <tr>\n",
       "      <th>57885</th>\n",
       "      <td>parsed_10-K_0001193125-10-014973.txt</td>\n",
       "      <td>20100128</td>\n",
       "      <td>2010</td>\n",
       "      <td>2</td>\n",
       "      <td>0.497073</td>\n",
       "      <td>0.044679</td>\n",
       "      <td>1.226339</td>\n",
       "      <td>0.011354</td>\n",
       "      <td>8.400413</td>\n",
       "      <td>-1.235654</td>\n",
       "      <td>0</td>\n",
       "      <td>0.003744</td>\n",
       "      <td>0.322728</td>\n",
       "      <td>69</td>\n",
       "    </tr>\n",
       "    <tr>\n",
       "      <th>57887</th>\n",
       "      <td>parsed_10-K_0001193125-10-016932.txt</td>\n",
       "      <td>20100129</td>\n",
       "      <td>2010</td>\n",
       "      <td>12</td>\n",
       "      <td>0.979935</td>\n",
       "      <td>0.326559</td>\n",
       "      <td>2.599033</td>\n",
       "      <td>0.023549</td>\n",
       "      <td>9.464948</td>\n",
       "      <td>-2.028037</td>\n",
       "      <td>1</td>\n",
       "      <td>0.005534</td>\n",
       "      <td>0.219495</td>\n",
       "      <td>387</td>\n",
       "    </tr>\n",
       "    <tr>\n",
       "      <th>57892</th>\n",
       "      <td>parsed_10-K_0001193125-10-017074.txt</td>\n",
       "      <td>20100129</td>\n",
       "      <td>2010</td>\n",
       "      <td>34</td>\n",
       "      <td>3.381970</td>\n",
       "      <td>0.118845</td>\n",
       "      <td>2.389018</td>\n",
       "      <td>0.002845</td>\n",
       "      <td>8.030131</td>\n",
       "      <td>-1.763918</td>\n",
       "      <td>0</td>\n",
       "      <td>0.003270</td>\n",
       "      <td>0.278623</td>\n",
       "      <td>342</td>\n",
       "    </tr>\n",
       "  </tbody>\n",
       "</table>\n",
       "</div>"
      ],
      "text/plain": [
       "                                       file      date  year  ff48  rmse_post  \\\n",
       "57880  parsed_10-K_0000796343-10-000003.txt  20100122  2010    34   1.344314   \n",
       "57882  parsed_10-K_0001193125-10-014549.txt  20100128  2010    44   1.043391   \n",
       "57885  parsed_10-K_0001193125-10-014973.txt  20100128  2010     2   0.497073   \n",
       "57887  parsed_10-K_0001193125-10-016932.txt  20100129  2010    12   0.979935   \n",
       "57892  parsed_10-K_0001193125-10-017074.txt  20100129  2010    34   3.381970   \n",
       "\n",
       "          alpha  rmse_prior   ret_abn   mkt_cap       btm  nasdaq       unc  \\\n",
       "57880  0.064598    1.878657  0.028867  9.840227 -1.271154       1  0.004315   \n",
       "57882  0.039671    3.058759  0.011547  8.923082 -0.151860       0  0.004921   \n",
       "57885  0.044679    1.226339  0.011354  8.400413 -1.235654       0  0.003744   \n",
       "57887  0.326559    2.599033  0.023549  9.464948 -2.028037       1  0.005534   \n",
       "57892  0.118845    2.389018  0.002845  8.030131 -1.763918       0  0.003270   \n",
       "\n",
       "          tfidf  unc_word_count  \n",
       "57880  0.202695             649  \n",
       "57882  0.348415             841  \n",
       "57885  0.322728              69  \n",
       "57887  0.219495             387  \n",
       "57892  0.278623             342  "
      ]
     },
     "execution_count": 62,
     "metadata": {},
     "output_type": "execute_result"
    }
   ],
   "source": [
    "regressionData.head()"
   ]
  },
  {
   "cell_type": "code",
   "execution_count": 64,
   "metadata": {},
   "outputs": [
    {
     "data": {
      "text/plain": [
       "-0.05562481629872157"
      ]
     },
     "execution_count": 64,
     "metadata": {},
     "output_type": "execute_result"
    }
   ],
   "source": [
    "correlation = regressionData['rmse_post'].corr(regressionData['tfidf'])\n",
    "correlation"
   ]
  },
  {
   "cell_type": "code",
   "execution_count": 65,
   "metadata": {},
   "outputs": [
    {
     "data": {
      "text/plain": [
       "0.019255472543645215"
      ]
     },
     "execution_count": 65,
     "metadata": {},
     "output_type": "execute_result"
    }
   ],
   "source": [
    "correlation = regressionData['rmse_post'].corr(regressionData['unc_word_count'])\n",
    "correlation"
   ]
  },
  {
   "cell_type": "code",
   "execution_count": 126,
   "metadata": {},
   "outputs": [],
   "source": [
    "df_train, df_test = train_test_split(regressionData, test_size = 0.30, random_state = 90)"
   ]
  },
  {
   "cell_type": "code",
   "execution_count": 127,
   "metadata": {},
   "outputs": [],
   "source": [
    "important_feature_names = ['alpha','rmse_prior','ret_abn','mkt_cap','btm','nasdaq','tfidf','unc_word_count']"
   ]
  },
  {
   "cell_type": "code",
   "execution_count": 128,
   "metadata": {},
   "outputs": [],
   "source": [
    "labels = df_train['rmse_post']\n",
    "df_train=df_train[important_feature_names]"
   ]
  },
  {
   "cell_type": "code",
   "execution_count": 129,
   "metadata": {},
   "outputs": [],
   "source": [
    "from sklearn.ensemble import RandomForestRegressor\n",
    "\n",
    "rf = RandomForestRegressor(bootstrap=True,\n",
    " random_state = 42,\n",
    " n_estimators= 1000,\n",
    " min_samples_split= 8,\n",
    " min_samples_leaf= 3,\n",
    " max_features= 'sqrt',\n",
    " max_depth= 80)"
   ]
  },
  {
   "cell_type": "code",
   "execution_count": 130,
   "metadata": {},
   "outputs": [
    {
     "data": {
      "text/plain": [
       "RandomForestRegressor(bootstrap=True, ccp_alpha=0.0, criterion='mse',\n",
       "                      max_depth=80, max_features='sqrt', max_leaf_nodes=None,\n",
       "                      max_samples=None, min_impurity_decrease=0.0,\n",
       "                      min_impurity_split=None, min_samples_leaf=3,\n",
       "                      min_samples_split=8, min_weight_fraction_leaf=0.0,\n",
       "                      n_estimators=1000, n_jobs=None, oob_score=False,\n",
       "                      random_state=42, verbose=0, warm_start=False)"
      ]
     },
     "execution_count": 130,
     "metadata": {},
     "output_type": "execute_result"
    }
   ],
   "source": [
    "rf.fit(df_train, labels)"
   ]
  },
  {
   "cell_type": "code",
   "execution_count": 1,
   "metadata": {},
   "outputs": [
    {
     "ename": "NameError",
     "evalue": "name 'importances' is not defined",
     "output_type": "error",
     "traceback": [
      "\u001b[0;31m---------------------------------------------------------------------------\u001b[0m",
      "\u001b[0;31mNameError\u001b[0m                                 Traceback (most recent call last)",
      "\u001b[0;32m<ipython-input-1-930ada906a57>\u001b[0m in \u001b[0;36m<module>\u001b[0;34m\u001b[0m\n\u001b[0;32m----> 1\u001b[0;31m \u001b[0mI\u001b[0m \u001b[0;34m=\u001b[0m \u001b[0mimportances\u001b[0m\u001b[0;34m(\u001b[0m\u001b[0mrf\u001b[0m\u001b[0;34m,\u001b[0m \u001b[0mdf_train\u001b[0m\u001b[0;34m,\u001b[0m \u001b[0mlabels\u001b[0m\u001b[0;34m)\u001b[0m\u001b[0;34m\u001b[0m\u001b[0;34m\u001b[0m\u001b[0m\n\u001b[0m\u001b[1;32m      2\u001b[0m \u001b[0mplot_importances\u001b[0m\u001b[0;34m(\u001b[0m\u001b[0mI\u001b[0m\u001b[0;34m)\u001b[0m\u001b[0;34m\u001b[0m\u001b[0;34m\u001b[0m\u001b[0m\n",
      "\u001b[0;31mNameError\u001b[0m: name 'importances' is not defined"
     ]
    }
   ],
   "source": [
    "I = importances(rf, df_train, labels)\n",
    "plot_importances(I)"
   ]
  },
  {
   "cell_type": "code",
   "execution_count": 132,
   "metadata": {},
   "outputs": [
    {
     "data": {
      "text/plain": [
       "0.7023577427347302"
      ]
     },
     "execution_count": 132,
     "metadata": {},
     "output_type": "execute_result"
    }
   ],
   "source": [
    "rf.score(X = df_train, y= labels)"
   ]
  },
  {
   "cell_type": "code",
   "execution_count": 133,
   "metadata": {},
   "outputs": [],
   "source": [
    "test_data=df_test[important_feature_names]"
   ]
  },
  {
   "cell_type": "code",
   "execution_count": 134,
   "metadata": {},
   "outputs": [],
   "source": [
    "predictions = rf.predict(test_data)"
   ]
  },
  {
   "cell_type": "code",
   "execution_count": 135,
   "metadata": {},
   "outputs": [
    {
     "data": {
      "text/plain": [
       "0.41447284735297396"
      ]
     },
     "execution_count": 135,
     "metadata": {},
     "output_type": "execute_result"
    }
   ],
   "source": [
    "r2_score(df_test['rmse_post'], predictions)"
   ]
  },
  {
   "cell_type": "code",
   "execution_count": null,
   "metadata": {},
   "outputs": [],
   "source": []
  },
  {
   "cell_type": "code",
   "execution_count": null,
   "metadata": {},
   "outputs": [],
   "source": []
  }
 ],
 "metadata": {
  "kernelspec": {
   "display_name": "Python 3",
   "language": "python",
   "name": "python3"
  },
  "language_info": {
   "codemirror_mode": {
    "name": "ipython",
    "version": 3
   },
   "file_extension": ".py",
   "mimetype": "text/x-python",
   "name": "python",
   "nbconvert_exporter": "python",
   "pygments_lexer": "ipython3",
   "version": "3.6.9"
  }
 },
 "nbformat": 4,
 "nbformat_minor": 4
}
