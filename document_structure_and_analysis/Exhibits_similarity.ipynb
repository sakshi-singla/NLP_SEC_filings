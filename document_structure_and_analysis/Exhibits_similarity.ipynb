{
 "cells": [
  {
   "cell_type": "code",
   "execution_count": 21,
   "metadata": {},
   "outputs": [
    {
     "name": "stdout",
     "output_type": "stream",
     "text": [
      "Requirement already satisfied: scikit-learn in ./.local/lib/python3.6/site-packages (0.22.1)\n",
      "Requirement already satisfied: numpy>=1.11.0 in /usr/local/lib/python3.6/dist-packages (from scikit-learn) (1.15.2)\n",
      "Requirement already satisfied: joblib>=0.11 in ./.local/lib/python3.6/site-packages (from scikit-learn) (0.14.1)\n",
      "Requirement already satisfied: scipy>=0.17.0 in /usr/local/lib/python3.6/dist-packages (from scikit-learn) (1.2.1)\n",
      "\u001b[33mWARNING: You are using pip version 19.3.1; however, version 20.0.2 is available.\n",
      "You should consider upgrading via the 'pip install --upgrade pip' command.\u001b[0m\n"
     ]
    }
   ],
   "source": [
    "! pip install --user scikit-learn"
   ]
  },
  {
   "cell_type": "code",
   "execution_count": 4,
   "metadata": {},
   "outputs": [
    {
     "name": "stdout",
     "output_type": "stream",
     "text": [
      "Requirement already satisfied: torch in ./.local/lib/python3.6/site-packages (1.4.0)\n",
      "Requirement already satisfied: torchvision in ./.local/lib/python3.6/site-packages (0.5.0)\n",
      "Requirement already satisfied: pillow>=4.1.1 in ./.local/lib/python3.6/site-packages (from torchvision) (7.0.0)\n",
      "Requirement already satisfied: six in /opt/jupyter/hub/lib/python3.6/site-packages (from torchvision) (1.13.0)\n",
      "Requirement already satisfied: numpy in ./.local/lib/python3.6/site-packages (from torchvision) (1.18.1)\n",
      "\u001b[33mWARNING: You are using pip version 19.3.1; however, version 20.0.2 is available.\n",
      "You should consider upgrading via the 'pip install --upgrade pip' command.\u001b[0m\n"
     ]
    }
   ],
   "source": [
    "! pip install --user torch torchvision"
   ]
  },
  {
   "cell_type": "code",
   "execution_count": 22,
   "metadata": {},
   "outputs": [],
   "source": [
    "import sklearn\n",
    "import os\n",
    "import random"
   ]
  },
  {
   "cell_type": "code",
   "execution_count": 3,
   "metadata": {},
   "outputs": [
    {
     "name": "stdout",
     "output_type": "stream",
     "text": [
      "Requirement already satisfied: nltk in ./.local/lib/python3.6/site-packages (3.4.5)\n",
      "Requirement already satisfied: six in /opt/jupyter/hub/lib/python3.6/site-packages (from nltk) (1.13.0)\n",
      "\u001b[33mWARNING: You are using pip version 19.3.1; however, version 20.0.2 is available.\n",
      "You should consider upgrading via the 'pip install --upgrade pip' command.\u001b[0m\n"
     ]
    }
   ],
   "source": [
    "! pip install --user nltk\n"
   ]
  },
  {
   "cell_type": "code",
   "execution_count": 23,
   "metadata": {},
   "outputs": [],
   "source": [
    "path = \"/ifs/gsb/usf_interns/Parser_Project/ParsedDocumentsFoldel_10K/Exhibits_parsed/\""
   ]
  },
  {
   "cell_type": "code",
   "execution_count": 24,
   "metadata": {},
   "outputs": [],
   "source": [
    "exhibit_filenames=os.listdir(path)"
   ]
  },
  {
   "cell_type": "code",
   "execution_count": 25,
   "metadata": {},
   "outputs": [],
   "source": [
    "newList=[]"
   ]
  },
  {
   "cell_type": "code",
   "execution_count": 26,
   "metadata": {},
   "outputs": [],
   "source": [
    "for file in exhibit_filenames:\n",
    "    newList.append(file.split('_')[1])\n",
    "# newList   "
   ]
  },
  {
   "cell_type": "code",
   "execution_count": 28,
   "metadata": {},
   "outputs": [],
   "source": [
    "path_21_2=path+\"EX-21.2_all/\""
   ]
  },
  {
   "cell_type": "code",
   "execution_count": 29,
   "metadata": {},
   "outputs": [
    {
     "data": {
      "text/plain": [
       "'/ifs/gsb/usf_interns/Parser_Project/ParsedDocumentsFoldel_10K/Exhibits_parsed/EX-21.2_all/'"
      ]
     },
     "execution_count": 29,
     "metadata": {},
     "output_type": "execute_result"
    }
   ],
   "source": [
    "path_21_2"
   ]
  },
  {
   "cell_type": "code",
   "execution_count": 30,
   "metadata": {},
   "outputs": [
    {
     "data": {
      "text/plain": [
       "['parsed_EX-21.2_0000352541-15-000005.txt',\n",
       " 'parsed_EX-21.2_0001040971-19-000007.txt',\n",
       " 'parsed_EX-21.2_0001604778-18-000023.txt',\n",
       " 'parsed_EX-21.2_0001193125-13-084894.txt',\n",
       " 'parsed_EX-21.2_0001040971-14-000005.txt',\n",
       " 'parsed_EX-21.2_0001193125-12-049043.txt',\n",
       " 'parsed_EX-21.2_0000352541-17-000017.txt',\n",
       " 'parsed_EX-21.2_0001297996-19-000032.txt',\n",
       " 'parsed_EX-21.2_0001193125-16-457652.txt',\n",
       " 'parsed_EX-21.2_0001297996-17-000020.txt',\n",
       " 'parsed_EX-21.2_0001628280-18-001324.txt',\n",
       " 'parsed_EX-21.2_0001564590-16-012990.txt',\n",
       " 'parsed_EX-21.2_0001193125-15-049964.txt',\n",
       " 'parsed_EX-21.2_0001040971-16-000016.txt',\n",
       " 'parsed_EX-21.2_0000352541-16-000076.txt',\n",
       " 'parsed_EX-21.2_0001297996-18-000026.txt',\n",
       " 'parsed_EX-21.2_0001711269-19-000013.txt',\n",
       " 'parsed_EX-21.2_0000950123-11-015736.txt',\n",
       " 'parsed_EX-21.2_0001193125-11-030543.txt',\n",
       " 'parsed_EX-21.2_0001193125-17-039639.txt',\n",
       " 'parsed_EX-21.2_0000352541-13-000007.txt',\n",
       " 'parsed_EX-21.2_0001193125-13-073292.txt',\n",
       " 'parsed_EX-21.2_0001193125-11-045334.txt',\n",
       " 'parsed_EX-21.2_0001564590-19-004191.txt',\n",
       " 'parsed_EX-21.2_0001040971-17-000005.txt',\n",
       " 'parsed_EX-21.2_0001193125-12-082659.txt',\n",
       " 'parsed_EX-21.2_0001193125-11-047638.txt',\n",
       " 'parsed_EX-21.2_0000352541-14-000006.txt',\n",
       " 'parsed_EX-21.2_0001297996-16-000124.txt',\n",
       " 'parsed_EX-21.2_0001564590-15-000907.txt',\n",
       " 'parsed_EX-21.2_0001564590-18-003330.txt',\n",
       " 'parsed_EX-21.2_0001193125-14-078397.txt',\n",
       " 'parsed_EX-21.2_0001193125-12-081622.txt',\n",
       " 'parsed_EX-21.2_0001193125-11-049662.txt',\n",
       " 'parsed_EX-21.2_0001193125-13-069749.txt',\n",
       " 'parsed_EX-21.2_0001193125-14-051838.txt',\n",
       " 'parsed_EX-21.2_0001040971-15-000003.txt',\n",
       " 'parsed_EX-21.2_0001193125-12-072499.txt',\n",
       " 'parsed_EX-21.2_0001628280-19-001107.txt',\n",
       " 'parsed_EX-21.2_0001193125-10-023280.txt',\n",
       " 'parsed_EX-21.2_0000352541-10-000009.txt',\n",
       " 'parsed_EX-21.2_0000877890-17-000030.txt',\n",
       " 'parsed_EX-21.2_0001193125-15-068526.txt',\n",
       " 'parsed_EX-21.2_0000950123-10-014699.txt',\n",
       " 'parsed_EX-21.2_0001040971-18-000006.txt',\n",
       " 'parsed_EX-21.2_0001297996-15-000010.txt',\n",
       " 'parsed_EX-21.2_0001564590-17-002348.txt']"
      ]
     },
     "execution_count": 30,
     "metadata": {},
     "output_type": "execute_result"
    }
   ],
   "source": [
    "ls = os.listdir(path_21_2)\n",
    "ls"
   ]
  },
  {
   "cell_type": "code",
   "execution_count": 31,
   "metadata": {},
   "outputs": [],
   "source": [
    "fullpath_10K = [path_21_2 + fn for fn in ls]\n",
    "# fullpath_10K"
   ]
  },
  {
   "cell_type": "code",
   "execution_count": 32,
   "metadata": {},
   "outputs": [],
   "source": [
    "from sklearn.feature_extraction.text import TfidfVectorizer\n",
    "\n",
    "documents = [open(f).read() for f in fullpath_10K]\n",
    "tfidf = TfidfVectorizer().fit_transform(documents)\n",
    "# no need to normalize, since Vectorizer will return normalized tf-idf\n",
    "pairwise_similarity = tfidf * tfidf.T"
   ]
  },
  {
   "cell_type": "code",
   "execution_count": 33,
   "metadata": {},
   "outputs": [
    {
     "name": "stdout",
     "output_type": "stream",
     "text": [
      "[[1.         0.01577159 0.06439302 ... 0.01595862 0.01693769 0.02034312]\n",
      " [0.01577159 1.         0.06160075 ... 0.99610063 0.30045737 0.31151386]\n",
      " [0.06439302 0.06160075 1.         ... 0.06034983 0.08019116 0.05132982]\n",
      " ...\n",
      " [0.01595862 0.99610063 0.06034983 ... 1.         0.29435401 0.30639631]\n",
      " [0.01693769 0.30045737 0.08019116 ... 0.29435401 1.         0.20775549]\n",
      " [0.02034312 0.31151386 0.05132982 ... 0.30639631 0.20775549 1.        ]]\n"
     ]
    }
   ],
   "source": [
    "print(pairwise_similarity.todense())"
   ]
  },
  {
   "cell_type": "code",
   "execution_count": 37,
   "metadata": {},
   "outputs": [],
   "source": [
    "path_32_5=\"/ifs/gsb/usf_interns/Parser_Project/ParsedDocumentsFoldel_10K/Exhibits_parsed/Exhibits_splitted/EX-32.5/\"\n",
    "ls = os.listdir(path_32_5)\n",
    "fullpath_10K = [path_32_5 + fn for fn in ls]"
   ]
  },
  {
   "cell_type": "code",
   "execution_count": 39,
   "metadata": {},
   "outputs": [
    {
     "name": "stdout",
     "output_type": "stream",
     "text": [
      "[[1.         0.50172901 0.51027257 0.59818278 0.62105001 0.57720139\n",
      "  0.51064066 0.62331893 0.52081526 0.50204526 0.78713778 0.59351813\n",
      "  0.51455789 0.84171029 0.52357168 0.51385071 0.51011538 0.57544918\n",
      "  0.57227999 0.51453873]\n",
      " [0.50172901 1.         0.94128535 0.46966673 0.55461891 0.65794813\n",
      "  0.65586155 0.56534581 0.65860021 0.37655599 0.51807766 0.46863431\n",
      "  0.65068742 0.50733407 0.58188252 0.64979316 0.94971695 0.52254968\n",
      "  0.51138497 0.65068707]\n",
      " [0.51027257 0.94128535 1.         0.48685314 0.55418089 0.66915182\n",
      "  0.65699545 0.55523019 0.66981501 0.399462   0.52689961 0.48542205\n",
      "  0.66176748 0.51597307 0.59179095 0.66085799 0.97095705 0.5355671\n",
      "  0.53923658 0.66176712]\n",
      " [0.59818278 0.46966673 0.48685314 1.         0.62981705 0.52675675\n",
      "  0.48152029 0.63114215 0.49067965 0.48697201 0.604079   0.77661729\n",
      "  0.48478435 0.59833683 0.4580017  0.4841181  0.48109772 0.59860597\n",
      "  0.60010114 0.48480525]\n",
      " [0.62105001 0.55461891 0.55418089 0.62981705 1.         0.55242588\n",
      "  0.51967255 0.95021675 0.50814616 0.503616   0.65173318 0.62769421\n",
      "  0.5138779  0.62798806 0.48604461 0.50135103 0.55404468 0.8858157\n",
      "  0.89294173 0.50200217]\n",
      " [0.57720139 0.65794813 0.66915182 0.52675675 0.55242588 1.\n",
      "  0.87969546 0.5537063  0.90808494 0.41962048 0.59597878 0.51902461\n",
      "  0.88570869 0.5938996  0.66934934 0.88449142 0.6688991  0.52616782\n",
      "  0.52267828 0.88574232]\n",
      " [0.51064066 0.65586155 0.65699545 0.48152029 0.51967255 0.87969546\n",
      "  1.         0.50898963 0.91880563 0.38770985 0.5272797  0.47396536\n",
      "  0.91978562 0.51634528 0.59221785 0.90651901 0.65655135 0.47718932\n",
      "  0.47408109 0.90782915]\n",
      " [0.62331893 0.56534581 0.55523019 0.63114215 0.95021675 0.5537063\n",
      "  0.50898963 1.         0.50927549 0.50421561 0.64166071 0.6289377\n",
      "  0.50315677 0.63028233 0.48719436 0.50246526 0.56492795 0.90622131\n",
      "  0.89580163 0.5031184 ]\n",
      " [0.52081526 0.65860021 0.66981501 0.49067965 0.50814616 0.90808494\n",
      "  0.91880563 0.50927549 1.         0.39415829 0.55849883 0.48295134\n",
      "  0.92666881 0.53579972 0.6039882  0.92539525 0.66935739 0.48665908\n",
      "  0.48349503 0.93705289]\n",
      " [0.50204526 0.37655599 0.399462   0.48697201 0.503616   0.41962048\n",
      "  0.38770985 0.50421561 0.39415829 1.         0.48167555 0.51060157\n",
      "  0.38942265 0.49847434 0.36140395 0.38888745 0.39573178 0.47486583\n",
      "  0.47714513 0.39307304]\n",
      " [0.78713778 0.51807766 0.52689961 0.604079   0.65173318 0.59597878\n",
      "  0.5272797  0.64166071 0.55849883 0.48167555 1.         0.60001159\n",
      "  0.53133986 0.90192961 0.51747602 0.53060962 0.52675108 0.58554531\n",
      "  0.5912189  0.54244014]\n",
      " [0.59351813 0.46863431 0.48542205 0.77661729 0.62769421 0.51902461\n",
      "  0.47396536 0.6289377  0.48295134 0.51060157 0.60001159 1.\n",
      "  0.47714889 0.59389083 0.45501132 0.47649313 0.47984448 0.59670073\n",
      "  0.59807207 0.47717212]\n",
      " [0.51455789 0.65068742 0.66176748 0.48478435 0.5138779  0.88570869\n",
      "  0.91978562 0.50315677 0.92666881 0.38942265 0.53133986 0.47714889\n",
      "  1.         0.52030627 0.59673155 0.92908314 0.66131535 0.48081209\n",
      "  0.47768605 0.91371939]\n",
      " [0.84171029 0.50733407 0.51597307 0.59833683 0.62798806 0.5938996\n",
      "  0.51634528 0.63028233 0.53579972 0.49847434 0.90192961 0.59389083\n",
      "  0.52030627 1.         0.51603816 0.51959119 0.51581412 0.58187781\n",
      "  0.57867321 0.5202869 ]\n",
      " [0.52357168 0.58188252 0.59179095 0.4580017  0.48604461 0.66934934\n",
      "  0.59221785 0.48719436 0.6039882  0.36140395 0.51747602 0.45501132\n",
      "  0.59673155 0.51603816 1.         0.59591143 0.59158221 0.46382427\n",
      "  0.4607263  0.59671199]\n",
      " [0.51385071 0.64979316 0.66085799 0.4841181  0.50135103 0.88449142\n",
      "  0.90651901 0.50246526 0.92539525 0.38888745 0.53060962 0.47649313\n",
      "  0.92908314 0.51959119 0.59591143 1.         0.66040648 0.48015129\n",
      "  0.47702954 0.92727354]\n",
      " [0.51011538 0.94971695 0.97095705 0.48109772 0.55404468 0.6688991\n",
      "  0.65655135 0.56492795 0.66935739 0.39573178 0.52675108 0.47984448\n",
      "  0.66131535 0.51581412 0.59158221 0.66040648 1.         0.54329278\n",
      "  0.53193819 0.66301005]\n",
      " [0.57544918 0.52254968 0.5355671  0.59860597 0.8858157  0.52616782\n",
      "  0.47718932 0.90622131 0.48665908 0.47486583 0.58554531 0.59670073\n",
      "  0.48081209 0.58187781 0.46382427 0.48015129 0.54329278 1.\n",
      "  0.98926506 0.48079762]\n",
      " [0.57227999 0.51138497 0.53923658 0.60010114 0.89294173 0.52267828\n",
      "  0.47408109 0.89580163 0.48349503 0.47714513 0.5912189  0.59807207\n",
      "  0.47768605 0.57867321 0.4607263  0.47702954 0.53193819 0.98926506\n",
      "  1.         0.47767115]\n",
      " [0.51453873 0.65068707 0.66176712 0.48480525 0.50200217 0.88574232\n",
      "  0.90782915 0.5031184  0.93705289 0.39307304 0.54244014 0.47717212\n",
      "  0.91371939 0.5202869  0.59671199 0.92727354 0.66301005 0.48079762\n",
      "  0.47767115 1.        ]]\n"
     ]
    }
   ],
   "source": [
    "from sklearn.feature_extraction.text import TfidfVectorizer\n",
    "\n",
    "documents = [open(f).read() for f in fullpath_10K]\n",
    "tfidf = TfidfVectorizer().fit_transform(documents)\n",
    "# no need to normalize, since Vectorizer will return normalized tf-idf\n",
    "pairwise_similarity = tfidf * tfidf.T\n",
    "print(pairwise_similarity.todense())"
   ]
  },
  {
   "cell_type": "code",
   "execution_count": null,
   "metadata": {},
   "outputs": [],
   "source": []
  }
 ],
 "metadata": {
  "kernelspec": {
   "display_name": "Python 3",
   "language": "python",
   "name": "python3"
  },
  "language_info": {
   "codemirror_mode": {
    "name": "ipython",
    "version": 3
   },
   "file_extension": ".py",
   "mimetype": "text/x-python",
   "name": "python",
   "nbconvert_exporter": "python",
   "pygments_lexer": "ipython3",
   "version": "3.6.9"
  }
 },
 "nbformat": 4,
 "nbformat_minor": 4
}
