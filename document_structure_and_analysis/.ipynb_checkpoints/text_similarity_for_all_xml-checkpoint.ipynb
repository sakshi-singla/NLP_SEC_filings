{
 "cells": [
  {
   "cell_type": "code",
   "execution_count": 1,
   "metadata": {},
   "outputs": [],
   "source": [
    "import sklearn\n",
    "import os\n",
    "from sklearn.feature_extraction.text import TfidfVectorizer\n",
    "import matplotlib.pyplot as plt\n",
    "import numpy as np\n",
    "from sklearn.metrics.pairwise import cosine_similarity"
   ]
  },
  {
   "cell_type": "code",
   "execution_count": 2,
   "metadata": {},
   "outputs": [],
   "source": [
    "path = \"/usr/local/ifs/gsb/usf_interns/Parser_Project/ParsedDocumentsFolder_new/\""
   ]
  },
  {
   "cell_type": "code",
   "execution_count": 3,
   "metadata": {},
   "outputs": [],
   "source": [
    "ls = os.listdir(path)"
   ]
  },
  {
   "cell_type": "code",
   "execution_count": 4,
   "metadata": {},
   "outputs": [],
   "source": [
    "cik = [fn.split(\"-\")[0].split(\"_\")[-1] for fn in ls]"
   ]
  },
  {
   "cell_type": "code",
   "execution_count": 5,
   "metadata": {},
   "outputs": [],
   "source": [
    "cik = list(set(cik))"
   ]
  },
  {
   "cell_type": "code",
   "execution_count": 6,
   "metadata": {},
   "outputs": [
    {
     "data": {
      "text/plain": [
       "436"
      ]
     },
     "execution_count": 6,
     "metadata": {},
     "output_type": "execute_result"
    }
   ],
   "source": [
    "len(cik)"
   ]
  },
  {
   "cell_type": "code",
   "execution_count": 31,
   "metadata": {},
   "outputs": [],
   "source": [
    "def document_similarity(index):\n",
    "    print(cik[index])\n",
    "    selected = [fn for fn in ls if cik[index] in fn]\n",
    "    year = sorted([fn.split(\"-\")[-2] for fn in selected])\n",
    "    print(year)\n",
    "    selected_fullpath = [path + fn for fn in selected]\n",
    "    documents = [open(f).read() for f in selected_fullpath]\n",
    "    tfidf = TfidfVectorizer().fit_transform(documents)\n",
    "    pairwise_similarity = tfidf * tfidf.T\n",
    "#     matrix = pairwise_similarity.todense()\n",
    "    cosine = cosine_similarity(tfidf, tfidf)\n",
    "    print(cosine)\n",
    "    plt.title(\"Apartment investment & management co from 2013 to 2019\",size = 12)\n",
    "    plt.ylabel(\"TF-IDF Text Similarity\")\n",
    "    plt.imshow(cosine,cmap=plt.cm.OrRd)\n",
    "    plt.colorbar()\n",
    "    plt.savefig(\"similarity.png\")\n",
    "    plt.show()"
   ]
  },
  {
   "cell_type": "code",
   "execution_count": 32,
   "metadata": {},
   "outputs": [
    {
     "name": "stdout",
     "output_type": "stream",
     "text": [
      "0000922864\n",
      "['13', '14', '15', '16', '17', '18', '19']\n",
      "[[1.         0.98605371 0.990621   0.99226178 0.99040245 0.99531012\n",
      "  0.99387921]\n",
      " [0.98605371 1.         0.99439857 0.99083442 0.99284398 0.98764067\n",
      "  0.98897184]\n",
      " [0.990621   0.99439857 1.         0.99509321 0.99790381 0.99164459\n",
      "  0.99192907]\n",
      " [0.99226178 0.99083442 0.99509321 1.         0.99672499 0.99372193\n",
      "  0.99510343]\n",
      " [0.99040245 0.99284398 0.99790381 0.99672499 1.         0.99169803\n",
      "  0.9927078 ]\n",
      " [0.99531012 0.98764067 0.99164459 0.99372193 0.99169803 1.\n",
      "  0.9978015 ]\n",
      " [0.99387921 0.98897184 0.99192907 0.99510343 0.9927078  0.9978015\n",
      "  1.        ]]\n"
     ]
    },
    {
     "data": {
      "image/png": "[encoded data removed]",
      "text/plain": [
       "<Figure size 432x288 with 2 Axes>"
      ]
     },
     "metadata": {
      "needs_background": "light"
     },
     "output_type": "display_data"
    }
   ],
   "source": [
    "document_similarity(11)"
   ]
  },
  {
   "cell_type": "code",
   "execution_count": null,
   "metadata": {},
   "outputs": [],
   "source": []
  },
  {
   "cell_type": "code",
   "execution_count": null,
   "metadata": {},
   "outputs": [],
   "source": []
  },
  {
   "cell_type": "code",
   "execution_count": null,
   "metadata": {},
   "outputs": [],
   "source": []
  },
  {
   "cell_type": "code",
   "execution_count": null,
   "metadata": {},
   "outputs": [],
   "source": []
  },
  {
   "cell_type": "code",
   "execution_count": null,
   "metadata": {},
   "outputs": [],
   "source": []
  },
  {
   "cell_type": "code",
   "execution_count": null,
   "metadata": {},
   "outputs": [],
   "source": []
  },
  {
   "cell_type": "code",
   "execution_count": null,
   "metadata": {},
   "outputs": [],
   "source": []
  },
  {
   "cell_type": "code",
   "execution_count": null,
   "metadata": {},
   "outputs": [],
   "source": []
  },
  {
   "cell_type": "code",
   "execution_count": null,
   "metadata": {},
   "outputs": [],
   "source": []
  },
  {
   "cell_type": "code",
   "execution_count": 14,
   "metadata": {},
   "outputs": [],
   "source": [
    "selected = [fn for fn in ls if cik[0] in fn]"
   ]
  },
  {
   "cell_type": "code",
   "execution_count": 15,
   "metadata": {},
   "outputs": [
    {
     "data": {
      "text/plain": [
       "['parsed_XML_0000064040-18-000061.txt',\n",
       " 'parsed_XML_0000064040-19-000059.txt',\n",
       " 'parsed_XML_0000064040-15-000004.txt',\n",
       " 'parsed_XML_0000064040-14-000007.txt',\n",
       " 'parsed_XML_0000064040-16-000042.txt',\n",
       " 'parsed_XML_0000064040-17-000015.txt',\n",
       " 'parsed_XML_0000064040-13-000005.txt']"
      ]
     },
     "execution_count": 15,
     "metadata": {},
     "output_type": "execute_result"
    }
   ],
   "source": [
    "selected"
   ]
  },
  {
   "cell_type": "code",
   "execution_count": 17,
   "metadata": {},
   "outputs": [],
   "source": [
    "selected_fullpath = [path + fn for fn in selected]"
   ]
  },
  {
   "cell_type": "code",
   "execution_count": 18,
   "metadata": {},
   "outputs": [],
   "source": [
    "from sklearn.feature_extraction.text import TfidfVectorizer\n",
    "\n",
    "documents = [open(f).read() for f in selected_fullpath]\n",
    "tfidf = TfidfVectorizer().fit_transform(documents)\n",
    "pairwise_similarity = tfidf * tfidf.T"
   ]
  },
  {
   "cell_type": "code",
   "execution_count": 20,
   "metadata": {},
   "outputs": [
    {
     "data": {
      "text/plain": [
       "matrix([[1.        , 0.99618388, 0.99253811, 0.99149535, 0.99545411,\n",
       "         0.9977486 , 0.98834732],\n",
       "        [0.99618388, 1.        , 0.98884701, 0.98767564, 0.99165157,\n",
       "         0.99311739, 0.98367217],\n",
       "        [0.99253811, 0.98884701, 1.        , 0.99777819, 0.99729151,\n",
       "         0.99544636, 0.99467548],\n",
       "        [0.99149535, 0.98767564, 0.99777819, 1.        , 0.99543446,\n",
       "         0.99328759, 0.99746394],\n",
       "        [0.99545411, 0.99165157, 0.99729151, 0.99543446, 1.        ,\n",
       "         0.99808464, 0.99295857],\n",
       "        [0.9977486 , 0.99311739, 0.99544636, 0.99328759, 0.99808464,\n",
       "         1.        , 0.99076764],\n",
       "        [0.98834732, 0.98367217, 0.99467548, 0.99746394, 0.99295857,\n",
       "         0.99076764, 1.        ]])"
      ]
     },
     "execution_count": 20,
     "metadata": {},
     "output_type": "execute_result"
    }
   ],
   "source": [
    "matrix = pairwise_similarity.todense()\n",
    "matrix"
   ]
  },
  {
   "cell_type": "code",
   "execution_count": 62,
   "metadata": {},
   "outputs": [
    {
     "name": "stdout",
     "output_type": "stream",
     "text": [
      "[[1.         0.32648015]\n",
      " [0.32648015 1.        ]]\n"
     ]
    }
   ],
   "source": [
    "from sklearn.metrics.pairwise import cosine_similarity\n",
    "cosine = cosine_similarity(tfidf, tfidf)\n",
    "print(cosine)"
   ]
  },
  {
   "cell_type": "code",
   "execution_count": 59,
   "metadata": {},
   "outputs": [
    {
     "data": {
      "image/png": "[encoded data removed]",
      "text/plain": [
       "<Figure size 432x288 with 2 Axes>"
      ]
     },
     "metadata": {
      "needs_background": "light"
     },
     "output_type": "display_data"
    }
   ],
   "source": [
    "import numpy as np\n",
    "import matplotlib.pyplot as plt\n",
    "\n",
    "plt.imshow(cosine,cmap=plt.cm.Blues)\n",
    "plt.colorbar()\n",
    "plt.show()"
   ]
  },
  {
   "cell_type": "code",
   "execution_count": 52,
   "metadata": {},
   "outputs": [
    {
     "data": {
      "text/plain": [
       "<7x3513 sparse matrix of type '<class 'numpy.float64'>'\n",
       "\twith 17331 stored elements in Compressed Sparse Row format>"
      ]
     },
     "execution_count": 52,
     "metadata": {},
     "output_type": "execute_result"
    }
   ],
   "source": [
    "tfidf"
   ]
  },
  {
   "cell_type": "code",
   "execution_count": 53,
   "metadata": {},
   "outputs": [],
   "source": [
    "documents = [\"\"\"A document is a written, drawn, presented, or memorialized representation of thought. The word originates from the Latin documentum, which denotes a \"teaching\" or \"lesson\": the verb doceō denotes \"to teach\". In the past, the word was usually used to denote a written proof useful as evidence of a truth or fact.\"\"\",\"\"\"World War II (often abbreviated to WWII or WW2), also known as the Second World War, was a global war that lasted from 1939 to 1945. The vast majority of the world's countries—including all the great powers—eventually formed two opposing military alliances: the Allies and the Axis.\"\"\"]\n",
    "tfidf = TfidfVectorizer().fit_transform(documents)\n",
    "pairwise_similarity = tfidf * tfidf.T"
   ]
  },
  {
   "cell_type": "code",
   "execution_count": 56,
   "metadata": {},
   "outputs": [
    {
     "name": "stdout",
     "output_type": "stream",
     "text": [
      "[[1.         0.32648015]\n",
      " [0.32648015 1.        ]]\n"
     ]
    }
   ],
   "source": [
    "print(pairwise_similarity.todense())"
   ]
  },
  {
   "cell_type": "code",
   "execution_count": null,
   "metadata": {},
   "outputs": [],
   "source": []
  }
 ],
 "metadata": {
  "kernelspec": {
   "display_name": "Python 3",
   "language": "python",
   "name": "python3"
  },
  "language_info": {
   "codemirror_mode": {
    "name": "ipython",
    "version": 3
   },
   "file_extension": ".py",
   "mimetype": "text/x-python",
   "name": "python",
   "nbconvert_exporter": "python",
   "pygments_lexer": "ipython3",
   "version": "3.6.9"
  }
 },
 "nbformat": 4,
 "nbformat_minor": 4
}
